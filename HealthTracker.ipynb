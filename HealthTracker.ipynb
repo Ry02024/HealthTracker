{
  "cells": [
    {
      "cell_type": "markdown",
      "metadata": {
        "id": "view-in-github",
        "colab_type": "text"
      },
      "source": [
        "<a href=\"https://colab.research.google.com/github/Ry02024/HealthTracker/blob/main/HealthTracker.ipynb\" target=\"_parent\"><img src=\"https://colab.research.google.com/assets/colab-badge.svg\" alt=\"Open In Colab\"/></a>"
      ]
    },
    {
      "cell_type": "code",
      "execution_count": null,
      "metadata": {
        "colab": {
          "base_uri": "https://localhost:8080/",
          "height": 828
        },
        "id": "-6KK95vA4j79",
        "outputId": "6f604f66-d594-4ba1-8acd-0805e2e79c6f"
      },
      "outputs": [
        {
          "data": {
            "application/vnd.google.colaboratory.intrinsic+json": {
              "type": "dataframe",
              "variable_name": "df"
            },
            "text/html": [
              "\n",
              "  <div id=\"df-6dcc7156-ba4a-4c25-b03e-7f242ee7436a\" class=\"colab-df-container\">\n",
              "    <div>\n",
              "<style scoped>\n",
              "    .dataframe tbody tr th:only-of-type {\n",
              "        vertical-align: middle;\n",
              "    }\n",
              "\n",
              "    .dataframe tbody tr th {\n",
              "        vertical-align: top;\n",
              "    }\n",
              "\n",
              "    .dataframe thead th {\n",
              "        text-align: right;\n",
              "    }\n",
              "</style>\n",
              "<table border=\"1\" class=\"dataframe\">\n",
              "  <thead>\n",
              "    <tr style=\"text-align: right;\">\n",
              "      <th></th>\n",
              "      <th>訓練日</th>\n",
              "      <th>訓練開始時間</th>\n",
              "      <th>訓練終了時間</th>\n",
              "      <th>午前</th>\n",
              "      <th>午後</th>\n",
              "      <th>次回予定日</th>\n",
              "      <th>起床時間</th>\n",
              "      <th>睡眠時間</th>\n",
              "      <th>食事・服薬</th>\n",
              "      <th>ウキウキ</th>\n",
              "      <th>...</th>\n",
              "      <th>疲れ</th>\n",
              "      <th>リフレッシュ</th>\n",
              "      <th>曜日(数字)</th>\n",
              "      <th>曜日</th>\n",
              "      <th>予定日-1</th>\n",
              "      <th>朝食</th>\n",
              "      <th>昼食</th>\n",
              "      <th>夜食</th>\n",
              "      <th>薬</th>\n",
              "      <th>予定通り</th>\n",
              "    </tr>\n",
              "  </thead>\n",
              "  <tbody>\n",
              "    <tr>\n",
              "      <th>0</th>\n",
              "      <td>2024-04-10</td>\n",
              "      <td>10:30:00</td>\n",
              "      <td>17:00:00</td>\n",
              "      <td>統計検定３級参考書</td>\n",
              "      <td>python3年生機械学習４章、統計検定３・４級問題集</td>\n",
              "      <td>2024-04-11</td>\n",
              "      <td>6:15:00</td>\n",
              "      <td>6時間</td>\n",
              "      <td>朝食, 昼食, 夜食, 薬</td>\n",
              "      <td>４</td>\n",
              "      <td>...</td>\n",
              "      <td>３</td>\n",
              "      <td>はい</td>\n",
              "      <td>2</td>\n",
              "      <td>Wednesday</td>\n",
              "      <td>NaN</td>\n",
              "      <td>はい</td>\n",
              "      <td>はい</td>\n",
              "      <td>はい</td>\n",
              "      <td>はい</td>\n",
              "      <td>NaN</td>\n",
              "    </tr>\n",
              "    <tr>\n",
              "      <th>1</th>\n",
              "      <td>2024-04-11</td>\n",
              "      <td>11:00:00</td>\n",
              "      <td>16:20:00</td>\n",
              "      <td>面談（個別支援計画や契約書）</td>\n",
              "      <td>python機械学習、統計検定の問題</td>\n",
              "      <td>2024-04-12</td>\n",
              "      <td>7:30:00</td>\n",
              "      <td>8時間</td>\n",
              "      <td>朝食, 昼食, 夜食, 薬</td>\n",
              "      <td>２</td>\n",
              "      <td>...</td>\n",
              "      <td>３</td>\n",
              "      <td>はい</td>\n",
              "      <td>3</td>\n",
              "      <td>Thursday</td>\n",
              "      <td>2024-04-11</td>\n",
              "      <td>はい</td>\n",
              "      <td>はい</td>\n",
              "      <td>はい</td>\n",
              "      <td>はい</td>\n",
              "      <td>0.0</td>\n",
              "    </tr>\n",
              "    <tr>\n",
              "      <th>2</th>\n",
              "      <td>2024-04-12</td>\n",
              "      <td>10:30:00</td>\n",
              "      <td>15:30:00</td>\n",
              "      <td>python機械学習</td>\n",
              "      <td>pythonデータ加工100本ノック</td>\n",
              "      <td>2024-04-15</td>\n",
              "      <td>8:30:00</td>\n",
              "      <td>9時間</td>\n",
              "      <td>昼食, 夜食, 薬</td>\n",
              "      <td>２</td>\n",
              "      <td>...</td>\n",
              "      <td>２</td>\n",
              "      <td>はい</td>\n",
              "      <td>4</td>\n",
              "      <td>Friday</td>\n",
              "      <td>2024-04-12</td>\n",
              "      <td>いいえ</td>\n",
              "      <td>はい</td>\n",
              "      <td>はい</td>\n",
              "      <td>はい</td>\n",
              "      <td>0.0</td>\n",
              "    </tr>\n",
              "    <tr>\n",
              "      <th>3</th>\n",
              "      <td>2024-04-16</td>\n",
              "      <td>10:10:00</td>\n",
              "      <td>16:10:00</td>\n",
              "      <td>pythonデータ加工100本ノック</td>\n",
              "      <td>pythonデータ加工100本ノック、統計検定3・4級問題集</td>\n",
              "      <td>2024-04-17</td>\n",
              "      <td>7:50:00</td>\n",
              "      <td>8時間</td>\n",
              "      <td>朝食, 昼食, 夜食, 薬</td>\n",
              "      <td>２</td>\n",
              "      <td>...</td>\n",
              "      <td>１</td>\n",
              "      <td>はい</td>\n",
              "      <td>1</td>\n",
              "      <td>Tuesday</td>\n",
              "      <td>2024-04-15</td>\n",
              "      <td>はい</td>\n",
              "      <td>はい</td>\n",
              "      <td>はい</td>\n",
              "      <td>はい</td>\n",
              "      <td>1.0</td>\n",
              "    </tr>\n",
              "    <tr>\n",
              "      <th>4</th>\n",
              "      <td>2024-04-18</td>\n",
              "      <td>10:10:00</td>\n",
              "      <td>16:00:00</td>\n",
              "      <td>データ加工100本ノック</td>\n",
              "      <td>データ加工100本ノック、統計の問題</td>\n",
              "      <td>2024-04-22</td>\n",
              "      <td>7:30:00</td>\n",
              "      <td>7時間</td>\n",
              "      <td>朝食, 昼食, 夜食, 薬</td>\n",
              "      <td>３</td>\n",
              "      <td>...</td>\n",
              "      <td>２</td>\n",
              "      <td>はい</td>\n",
              "      <td>3</td>\n",
              "      <td>Thursday</td>\n",
              "      <td>2024-04-17</td>\n",
              "      <td>はい</td>\n",
              "      <td>はい</td>\n",
              "      <td>はい</td>\n",
              "      <td>はい</td>\n",
              "      <td>1.0</td>\n",
              "    </tr>\n",
              "  </tbody>\n",
              "</table>\n",
              "<p>5 rows × 23 columns</p>\n",
              "</div>\n",
              "    <div class=\"colab-df-buttons\">\n",
              "\n",
              "  <div class=\"colab-df-container\">\n",
              "    <button class=\"colab-df-convert\" onclick=\"convertToInteractive('df-6dcc7156-ba4a-4c25-b03e-7f242ee7436a')\"\n",
              "            title=\"Convert this dataframe to an interactive table.\"\n",
              "            style=\"display:none;\">\n",
              "\n",
              "  <svg xmlns=\"http://www.w3.org/2000/svg\" height=\"24px\" viewBox=\"0 -960 960 960\">\n",
              "    <path d=\"M120-120v-720h720v720H120Zm60-500h600v-160H180v160Zm220 220h160v-160H400v160Zm0 220h160v-160H400v160ZM180-400h160v-160H180v160Zm440 0h160v-160H620v160ZM180-180h160v-160H180v160Zm440 0h160v-160H620v160Z\"/>\n",
              "  </svg>\n",
              "    </button>\n",
              "\n",
              "  <style>\n",
              "    .colab-df-container {\n",
              "      display:flex;\n",
              "      gap: 12px;\n",
              "    }\n",
              "\n",
              "    .colab-df-convert {\n",
              "      background-color: #E8F0FE;\n",
              "      border: none;\n",
              "      border-radius: 50%;\n",
              "      cursor: pointer;\n",
              "      display: none;\n",
              "      fill: #1967D2;\n",
              "      height: 32px;\n",
              "      padding: 0 0 0 0;\n",
              "      width: 32px;\n",
              "    }\n",
              "\n",
              "    .colab-df-convert:hover {\n",
              "      background-color: #E2EBFA;\n",
              "      box-shadow: 0px 1px 2px rgba(60, 64, 67, 0.3), 0px 1px 3px 1px rgba(60, 64, 67, 0.15);\n",
              "      fill: #174EA6;\n",
              "    }\n",
              "\n",
              "    .colab-df-buttons div {\n",
              "      margin-bottom: 4px;\n",
              "    }\n",
              "\n",
              "    [theme=dark] .colab-df-convert {\n",
              "      background-color: #3B4455;\n",
              "      fill: #D2E3FC;\n",
              "    }\n",
              "\n",
              "    [theme=dark] .colab-df-convert:hover {\n",
              "      background-color: #434B5C;\n",
              "      box-shadow: 0px 1px 3px 1px rgba(0, 0, 0, 0.15);\n",
              "      filter: drop-shadow(0px 1px 2px rgba(0, 0, 0, 0.3));\n",
              "      fill: #FFFFFF;\n",
              "    }\n",
              "  </style>\n",
              "\n",
              "    <script>\n",
              "      const buttonEl =\n",
              "        document.querySelector('#df-6dcc7156-ba4a-4c25-b03e-7f242ee7436a button.colab-df-convert');\n",
              "      buttonEl.style.display =\n",
              "        google.colab.kernel.accessAllowed ? 'block' : 'none';\n",
              "\n",
              "      async function convertToInteractive(key) {\n",
              "        const element = document.querySelector('#df-6dcc7156-ba4a-4c25-b03e-7f242ee7436a');\n",
              "        const dataTable =\n",
              "          await google.colab.kernel.invokeFunction('convertToInteractive',\n",
              "                                                    [key], {});\n",
              "        if (!dataTable) return;\n",
              "\n",
              "        const docLinkHtml = 'Like what you see? Visit the ' +\n",
              "          '<a target=\"_blank\" href=https://colab.research.google.com/notebooks/data_table.ipynb>data table notebook</a>'\n",
              "          + ' to learn more about interactive tables.';\n",
              "        element.innerHTML = '';\n",
              "        dataTable['output_type'] = 'display_data';\n",
              "        await google.colab.output.renderOutput(dataTable, element);\n",
              "        const docLink = document.createElement('div');\n",
              "        docLink.innerHTML = docLinkHtml;\n",
              "        element.appendChild(docLink);\n",
              "      }\n",
              "    </script>\n",
              "  </div>\n",
              "\n",
              "\n",
              "<div id=\"df-74cc1b94-c5e8-48d3-b8d3-2b711dffbf50\">\n",
              "  <button class=\"colab-df-quickchart\" onclick=\"quickchart('df-74cc1b94-c5e8-48d3-b8d3-2b711dffbf50')\"\n",
              "            title=\"Suggest charts\"\n",
              "            style=\"display:none;\">\n",
              "\n",
              "<svg xmlns=\"http://www.w3.org/2000/svg\" height=\"24px\"viewBox=\"0 0 24 24\"\n",
              "     width=\"24px\">\n",
              "    <g>\n",
              "        <path d=\"M19 3H5c-1.1 0-2 .9-2 2v14c0 1.1.9 2 2 2h14c1.1 0 2-.9 2-2V5c0-1.1-.9-2-2-2zM9 17H7v-7h2v7zm4 0h-2V7h2v10zm4 0h-2v-4h2v4z\"/>\n",
              "    </g>\n",
              "</svg>\n",
              "  </button>\n",
              "\n",
              "<style>\n",
              "  .colab-df-quickchart {\n",
              "      --bg-color: #E8F0FE;\n",
              "      --fill-color: #1967D2;\n",
              "      --hover-bg-color: #E2EBFA;\n",
              "      --hover-fill-color: #174EA6;\n",
              "      --disabled-fill-color: #AAA;\n",
              "      --disabled-bg-color: #DDD;\n",
              "  }\n",
              "\n",
              "  [theme=dark] .colab-df-quickchart {\n",
              "      --bg-color: #3B4455;\n",
              "      --fill-color: #D2E3FC;\n",
              "      --hover-bg-color: #434B5C;\n",
              "      --hover-fill-color: #FFFFFF;\n",
              "      --disabled-bg-color: #3B4455;\n",
              "      --disabled-fill-color: #666;\n",
              "  }\n",
              "\n",
              "  .colab-df-quickchart {\n",
              "    background-color: var(--bg-color);\n",
              "    border: none;\n",
              "    border-radius: 50%;\n",
              "    cursor: pointer;\n",
              "    display: none;\n",
              "    fill: var(--fill-color);\n",
              "    height: 32px;\n",
              "    padding: 0;\n",
              "    width: 32px;\n",
              "  }\n",
              "\n",
              "  .colab-df-quickchart:hover {\n",
              "    background-color: var(--hover-bg-color);\n",
              "    box-shadow: 0 1px 2px rgba(60, 64, 67, 0.3), 0 1px 3px 1px rgba(60, 64, 67, 0.15);\n",
              "    fill: var(--button-hover-fill-color);\n",
              "  }\n",
              "\n",
              "  .colab-df-quickchart-complete:disabled,\n",
              "  .colab-df-quickchart-complete:disabled:hover {\n",
              "    background-color: var(--disabled-bg-color);\n",
              "    fill: var(--disabled-fill-color);\n",
              "    box-shadow: none;\n",
              "  }\n",
              "\n",
              "  .colab-df-spinner {\n",
              "    border: 2px solid var(--fill-color);\n",
              "    border-color: transparent;\n",
              "    border-bottom-color: var(--fill-color);\n",
              "    animation:\n",
              "      spin 1s steps(1) infinite;\n",
              "  }\n",
              "\n",
              "  @keyframes spin {\n",
              "    0% {\n",
              "      border-color: transparent;\n",
              "      border-bottom-color: var(--fill-color);\n",
              "      border-left-color: var(--fill-color);\n",
              "    }\n",
              "    20% {\n",
              "      border-color: transparent;\n",
              "      border-left-color: var(--fill-color);\n",
              "      border-top-color: var(--fill-color);\n",
              "    }\n",
              "    30% {\n",
              "      border-color: transparent;\n",
              "      border-left-color: var(--fill-color);\n",
              "      border-top-color: var(--fill-color);\n",
              "      border-right-color: var(--fill-color);\n",
              "    }\n",
              "    40% {\n",
              "      border-color: transparent;\n",
              "      border-right-color: var(--fill-color);\n",
              "      border-top-color: var(--fill-color);\n",
              "    }\n",
              "    60% {\n",
              "      border-color: transparent;\n",
              "      border-right-color: var(--fill-color);\n",
              "    }\n",
              "    80% {\n",
              "      border-color: transparent;\n",
              "      border-right-color: var(--fill-color);\n",
              "      border-bottom-color: var(--fill-color);\n",
              "    }\n",
              "    90% {\n",
              "      border-color: transparent;\n",
              "      border-bottom-color: var(--fill-color);\n",
              "    }\n",
              "  }\n",
              "</style>\n",
              "\n",
              "  <script>\n",
              "    async function quickchart(key) {\n",
              "      const quickchartButtonEl =\n",
              "        document.querySelector('#' + key + ' button');\n",
              "      quickchartButtonEl.disabled = true;  // To prevent multiple clicks.\n",
              "      quickchartButtonEl.classList.add('colab-df-spinner');\n",
              "      try {\n",
              "        const charts = await google.colab.kernel.invokeFunction(\n",
              "            'suggestCharts', [key], {});\n",
              "      } catch (error) {\n",
              "        console.error('Error during call to suggestCharts:', error);\n",
              "      }\n",
              "      quickchartButtonEl.classList.remove('colab-df-spinner');\n",
              "      quickchartButtonEl.classList.add('colab-df-quickchart-complete');\n",
              "    }\n",
              "    (() => {\n",
              "      let quickchartButtonEl =\n",
              "        document.querySelector('#df-74cc1b94-c5e8-48d3-b8d3-2b711dffbf50 button');\n",
              "      quickchartButtonEl.style.display =\n",
              "        google.colab.kernel.accessAllowed ? 'block' : 'none';\n",
              "    })();\n",
              "  </script>\n",
              "</div>\n",
              "\n",
              "    </div>\n",
              "  </div>\n"
            ],
            "text/plain": [
              "          訓練日    訓練開始時間    訓練終了時間                  午前  \\\n",
              "0  2024-04-10  10:30:00  17:00:00           統計検定３級参考書   \n",
              "1  2024-04-11  11:00:00  16:20:00      面談（個別支援計画や契約書）   \n",
              "2  2024-04-12  10:30:00  15:30:00          python機械学習   \n",
              "3  2024-04-16  10:10:00  16:10:00  pythonデータ加工100本ノック   \n",
              "4  2024-04-18  10:10:00  16:00:00        データ加工100本ノック   \n",
              "\n",
              "                               午後       次回予定日     起床時間 睡眠時間          食事・服薬  \\\n",
              "0     python3年生機械学習４章、統計検定３・４級問題集  2024-04-11  6:15:00  6時間  朝食, 昼食, 夜食, 薬   \n",
              "1              python機械学習、統計検定の問題  2024-04-12  7:30:00  8時間  朝食, 昼食, 夜食, 薬   \n",
              "2              pythonデータ加工100本ノック  2024-04-15  8:30:00  9時間      昼食, 夜食, 薬   \n",
              "3  pythonデータ加工100本ノック、統計検定3・4級問題集  2024-04-17  7:50:00  8時間  朝食, 昼食, 夜食, 薬   \n",
              "4              データ加工100本ノック、統計の問題  2024-04-22  7:30:00  7時間  朝食, 昼食, 夜食, 薬   \n",
              "\n",
              "  ウキウキ  ... 疲れ リフレッシュ 曜日(数字)         曜日       予定日-1   朝食  昼食  夜食   薬 予定通り  \n",
              "0    ４  ...  ３     はい      2  Wednesday         NaN   はい  はい  はい  はい  NaN  \n",
              "1    ２  ...  ３     はい      3   Thursday  2024-04-11   はい  はい  はい  はい  0.0  \n",
              "2    ２  ...  ２     はい      4     Friday  2024-04-12  いいえ  はい  はい  はい  0.0  \n",
              "3    ２  ...  １     はい      1    Tuesday  2024-04-15   はい  はい  はい  はい  1.0  \n",
              "4    ３  ...  ２     はい      3   Thursday  2024-04-17   はい  はい  はい  はい  1.0  \n",
              "\n",
              "[5 rows x 23 columns]"
            ]
          },
          "execution_count": 1,
          "metadata": {},
          "output_type": "execute_result"
        }
      ],
      "source": [
        "import pandas as pd\n",
        "df = pd.read_csv('/content/drive/MyDrive/アプリ/利用者さんとのプロジェクト/5月現在.csv')\n",
        "df.head()"
      ]
    },
    {
      "cell_type": "code",
      "execution_count": null,
      "metadata": {
        "colab": {
          "base_uri": "https://localhost:8080/"
        },
        "id": "g-kw8AQ8VDW7",
        "outputId": "59fdb060-e86d-4412-9f1d-724e830e6710"
      },
      "outputs": [
        {
          "name": "stdout",
          "output_type": "stream",
          "text": [
            "\u001b[2K     \u001b[90m━━━━━━━━━━━━━━━━━━━━━━━━━━━━━━━━━━━━━━━━\u001b[0m \u001b[32m4.1/4.1 MB\u001b[0m \u001b[31m17.8 MB/s\u001b[0m eta \u001b[36m0:00:00\u001b[0m\n",
            "\u001b[?25h  Preparing metadata (setup.py) ... \u001b[?25l\u001b[?25hdone\n",
            "  Building wheel for japanize-matplotlib (setup.py) ... \u001b[?25l\u001b[?25hdone\n"
          ]
        }
      ],
      "source": [
        "!pip install japanize-matplotlib -q\n",
        "import japanize_matplotlib"
      ]
    },
    {
      "cell_type": "code",
      "execution_count": null,
      "metadata": {
        "colab": {
          "base_uri": "https://localhost:8080/",
          "height": 1000
        },
        "id": "PBRAuulpQE8z",
        "outputId": "5c9431f1-9437-4c65-dd48-041ff14a0675"
      },
      "outputs": [
        {
          "name": "stderr",
          "output_type": "stream",
          "text": [
            "<ipython-input-33-3e74ec82f0ed>:17: UserWarning: Could not infer format, so each element will be parsed individually, falling back to `dateutil`. To ensure parsing is consistent and as-expected, please specify a format.\n",
            "  data['訓練開始時間'] = pd.to_datetime(data['訓練開始時間']).dt.hour + pd.to_datetime(data['訓練開始時間']).dt.minute / 60\n",
            "<ipython-input-33-3e74ec82f0ed>:17: UserWarning: Could not infer format, so each element will be parsed individually, falling back to `dateutil`. To ensure parsing is consistent and as-expected, please specify a format.\n",
            "  data['訓練開始時間'] = pd.to_datetime(data['訓練開始時間']).dt.hour + pd.to_datetime(data['訓練開始時間']).dt.minute / 60\n",
            "<ipython-input-33-3e74ec82f0ed>:18: UserWarning: Could not infer format, so each element will be parsed individually, falling back to `dateutil`. To ensure parsing is consistent and as-expected, please specify a format.\n",
            "  data['訓練終了時間'] = pd.to_datetime(data['訓練終了時間']).dt.hour + pd.to_datetime(data['訓練終了時間']).dt.minute / 60\n",
            "<ipython-input-33-3e74ec82f0ed>:18: UserWarning: Could not infer format, so each element will be parsed individually, falling back to `dateutil`. To ensure parsing is consistent and as-expected, please specify a format.\n",
            "  data['訓練終了時間'] = pd.to_datetime(data['訓練終了時間']).dt.hour + pd.to_datetime(data['訓練終了時間']).dt.minute / 60\n",
            "<ipython-input-33-3e74ec82f0ed>:19: UserWarning: Could not infer format, so each element will be parsed individually, falling back to `dateutil`. To ensure parsing is consistent and as-expected, please specify a format.\n",
            "  data['起床時間'] = pd.to_datetime(data['起床時間']).dt.hour + pd.to_datetime(data['起床時間']).dt.minute / 60\n",
            "<ipython-input-33-3e74ec82f0ed>:19: UserWarning: Could not infer format, so each element will be parsed individually, falling back to `dateutil`. To ensure parsing is consistent and as-expected, please specify a format.\n",
            "  data['起床時間'] = pd.to_datetime(data['起床時間']).dt.hour + pd.to_datetime(data['起床時間']).dt.minute / 60\n",
            "/usr/local/lib/python3.10/dist-packages/seaborn/utils.py:61: UserWarning: Glyph 30561 (\\N{CJK UNIFIED IDEOGRAPH-7761}) missing from current font.\n",
            "  fig.canvas.draw()\n",
            "/usr/local/lib/python3.10/dist-packages/seaborn/utils.py:61: UserWarning: Glyph 30496 (\\N{CJK UNIFIED IDEOGRAPH-7720}) missing from current font.\n",
            "  fig.canvas.draw()\n",
            "/usr/local/lib/python3.10/dist-packages/seaborn/utils.py:61: UserWarning: Glyph 26178 (\\N{CJK UNIFIED IDEOGRAPH-6642}) missing from current font.\n",
            "  fig.canvas.draw()\n",
            "/usr/local/lib/python3.10/dist-packages/seaborn/utils.py:61: UserWarning: Glyph 38291 (\\N{CJK UNIFIED IDEOGRAPH-9593}) missing from current font.\n",
            "  fig.canvas.draw()\n",
            "/usr/local/lib/python3.10/dist-packages/seaborn/utils.py:61: UserWarning: Glyph 12454 (\\N{KATAKANA LETTER U}) missing from current font.\n",
            "  fig.canvas.draw()\n",
            "/usr/local/lib/python3.10/dist-packages/seaborn/utils.py:61: UserWarning: Glyph 12461 (\\N{KATAKANA LETTER KI}) missing from current font.\n",
            "  fig.canvas.draw()\n",
            "/usr/local/lib/python3.10/dist-packages/seaborn/utils.py:61: UserWarning: Glyph 12473 (\\N{KATAKANA LETTER SU}) missing from current font.\n",
            "  fig.canvas.draw()\n",
            "/usr/local/lib/python3.10/dist-packages/seaborn/utils.py:61: UserWarning: Glyph 12488 (\\N{KATAKANA LETTER TO}) missing from current font.\n",
            "  fig.canvas.draw()\n",
            "/usr/local/lib/python3.10/dist-packages/seaborn/utils.py:61: UserWarning: Glyph 12524 (\\N{KATAKANA LETTER RE}) missing from current font.\n",
            "  fig.canvas.draw()\n",
            "/usr/local/lib/python3.10/dist-packages/seaborn/utils.py:61: UserWarning: Glyph 19981 (\\N{CJK UNIFIED IDEOGRAPH-4E0D}) missing from current font.\n",
            "  fig.canvas.draw()\n",
            "/usr/local/lib/python3.10/dist-packages/seaborn/utils.py:61: UserWarning: Glyph 23433 (\\N{CJK UNIFIED IDEOGRAPH-5B89}) missing from current font.\n",
            "  fig.canvas.draw()\n",
            "/usr/local/lib/python3.10/dist-packages/seaborn/utils.py:61: UserWarning: Glyph 12452 (\\N{KATAKANA LETTER I}) missing from current font.\n",
            "  fig.canvas.draw()\n",
            "/usr/local/lib/python3.10/dist-packages/seaborn/utils.py:61: UserWarning: Glyph 12521 (\\N{KATAKANA LETTER RA}) missing from current font.\n",
            "  fig.canvas.draw()\n",
            "/usr/local/lib/python3.10/dist-packages/seaborn/utils.py:61: UserWarning: Glyph 30130 (\\N{CJK UNIFIED IDEOGRAPH-75B2}) missing from current font.\n",
            "  fig.canvas.draw()\n",
            "/usr/local/lib/python3.10/dist-packages/seaborn/utils.py:61: UserWarning: Glyph 12428 (\\N{HIRAGANA LETTER RE}) missing from current font.\n",
            "  fig.canvas.draw()\n",
            "<ipython-input-33-3e74ec82f0ed>:51: UserWarning: Glyph 30561 (\\N{CJK UNIFIED IDEOGRAPH-7761}) missing from current font.\n",
            "  plt.savefig('./heatmap_reduced.png')\n",
            "<ipython-input-33-3e74ec82f0ed>:51: UserWarning: Glyph 30496 (\\N{CJK UNIFIED IDEOGRAPH-7720}) missing from current font.\n",
            "  plt.savefig('./heatmap_reduced.png')\n",
            "<ipython-input-33-3e74ec82f0ed>:51: UserWarning: Glyph 26178 (\\N{CJK UNIFIED IDEOGRAPH-6642}) missing from current font.\n",
            "  plt.savefig('./heatmap_reduced.png')\n",
            "<ipython-input-33-3e74ec82f0ed>:51: UserWarning: Glyph 38291 (\\N{CJK UNIFIED IDEOGRAPH-9593}) missing from current font.\n",
            "  plt.savefig('./heatmap_reduced.png')\n",
            "<ipython-input-33-3e74ec82f0ed>:51: UserWarning: Glyph 12454 (\\N{KATAKANA LETTER U}) missing from current font.\n",
            "  plt.savefig('./heatmap_reduced.png')\n",
            "<ipython-input-33-3e74ec82f0ed>:51: UserWarning: Glyph 12461 (\\N{KATAKANA LETTER KI}) missing from current font.\n",
            "  plt.savefig('./heatmap_reduced.png')\n",
            "<ipython-input-33-3e74ec82f0ed>:51: UserWarning: Glyph 12473 (\\N{KATAKANA LETTER SU}) missing from current font.\n",
            "  plt.savefig('./heatmap_reduced.png')\n",
            "<ipython-input-33-3e74ec82f0ed>:51: UserWarning: Glyph 12488 (\\N{KATAKANA LETTER TO}) missing from current font.\n",
            "  plt.savefig('./heatmap_reduced.png')\n",
            "<ipython-input-33-3e74ec82f0ed>:51: UserWarning: Glyph 12524 (\\N{KATAKANA LETTER RE}) missing from current font.\n",
            "  plt.savefig('./heatmap_reduced.png')\n",
            "<ipython-input-33-3e74ec82f0ed>:51: UserWarning: Glyph 19981 (\\N{CJK UNIFIED IDEOGRAPH-4E0D}) missing from current font.\n",
            "  plt.savefig('./heatmap_reduced.png')\n",
            "<ipython-input-33-3e74ec82f0ed>:51: UserWarning: Glyph 23433 (\\N{CJK UNIFIED IDEOGRAPH-5B89}) missing from current font.\n",
            "  plt.savefig('./heatmap_reduced.png')\n",
            "<ipython-input-33-3e74ec82f0ed>:51: UserWarning: Glyph 12452 (\\N{KATAKANA LETTER I}) missing from current font.\n",
            "  plt.savefig('./heatmap_reduced.png')\n",
            "<ipython-input-33-3e74ec82f0ed>:51: UserWarning: Glyph 12521 (\\N{KATAKANA LETTER RA}) missing from current font.\n",
            "  plt.savefig('./heatmap_reduced.png')\n",
            "<ipython-input-33-3e74ec82f0ed>:51: UserWarning: Glyph 30130 (\\N{CJK UNIFIED IDEOGRAPH-75B2}) missing from current font.\n",
            "  plt.savefig('./heatmap_reduced.png')\n",
            "<ipython-input-33-3e74ec82f0ed>:51: UserWarning: Glyph 12428 (\\N{HIRAGANA LETTER RE}) missing from current font.\n",
            "  plt.savefig('./heatmap_reduced.png')\n",
            "/usr/local/lib/python3.10/dist-packages/IPython/core/pylabtools.py:151: UserWarning: Glyph 30561 (\\N{CJK UNIFIED IDEOGRAPH-7761}) missing from current font.\n",
            "  fig.canvas.print_figure(bytes_io, **kw)\n",
            "/usr/local/lib/python3.10/dist-packages/IPython/core/pylabtools.py:151: UserWarning: Glyph 30496 (\\N{CJK UNIFIED IDEOGRAPH-7720}) missing from current font.\n",
            "  fig.canvas.print_figure(bytes_io, **kw)\n",
            "/usr/local/lib/python3.10/dist-packages/IPython/core/pylabtools.py:151: UserWarning: Glyph 26178 (\\N{CJK UNIFIED IDEOGRAPH-6642}) missing from current font.\n",
            "  fig.canvas.print_figure(bytes_io, **kw)\n",
            "/usr/local/lib/python3.10/dist-packages/IPython/core/pylabtools.py:151: UserWarning: Glyph 38291 (\\N{CJK UNIFIED IDEOGRAPH-9593}) missing from current font.\n",
            "  fig.canvas.print_figure(bytes_io, **kw)\n",
            "/usr/local/lib/python3.10/dist-packages/IPython/core/pylabtools.py:151: UserWarning: Glyph 12454 (\\N{KATAKANA LETTER U}) missing from current font.\n",
            "  fig.canvas.print_figure(bytes_io, **kw)\n",
            "/usr/local/lib/python3.10/dist-packages/IPython/core/pylabtools.py:151: UserWarning: Glyph 12461 (\\N{KATAKANA LETTER KI}) missing from current font.\n",
            "  fig.canvas.print_figure(bytes_io, **kw)\n",
            "/usr/local/lib/python3.10/dist-packages/IPython/core/pylabtools.py:151: UserWarning: Glyph 12473 (\\N{KATAKANA LETTER SU}) missing from current font.\n",
            "  fig.canvas.print_figure(bytes_io, **kw)\n",
            "/usr/local/lib/python3.10/dist-packages/IPython/core/pylabtools.py:151: UserWarning: Glyph 12488 (\\N{KATAKANA LETTER TO}) missing from current font.\n",
            "  fig.canvas.print_figure(bytes_io, **kw)\n",
            "/usr/local/lib/python3.10/dist-packages/IPython/core/pylabtools.py:151: UserWarning: Glyph 12524 (\\N{KATAKANA LETTER RE}) missing from current font.\n",
            "  fig.canvas.print_figure(bytes_io, **kw)\n",
            "/usr/local/lib/python3.10/dist-packages/IPython/core/pylabtools.py:151: UserWarning: Glyph 19981 (\\N{CJK UNIFIED IDEOGRAPH-4E0D}) missing from current font.\n",
            "  fig.canvas.print_figure(bytes_io, **kw)\n",
            "/usr/local/lib/python3.10/dist-packages/IPython/core/pylabtools.py:151: UserWarning: Glyph 23433 (\\N{CJK UNIFIED IDEOGRAPH-5B89}) missing from current font.\n",
            "  fig.canvas.print_figure(bytes_io, **kw)\n",
            "/usr/local/lib/python3.10/dist-packages/IPython/core/pylabtools.py:151: UserWarning: Glyph 12452 (\\N{KATAKANA LETTER I}) missing from current font.\n",
            "  fig.canvas.print_figure(bytes_io, **kw)\n",
            "/usr/local/lib/python3.10/dist-packages/IPython/core/pylabtools.py:151: UserWarning: Glyph 12521 (\\N{KATAKANA LETTER RA}) missing from current font.\n",
            "  fig.canvas.print_figure(bytes_io, **kw)\n",
            "/usr/local/lib/python3.10/dist-packages/IPython/core/pylabtools.py:151: UserWarning: Glyph 30130 (\\N{CJK UNIFIED IDEOGRAPH-75B2}) missing from current font.\n",
            "  fig.canvas.print_figure(bytes_io, **kw)\n",
            "/usr/local/lib/python3.10/dist-packages/IPython/core/pylabtools.py:151: UserWarning: Glyph 12428 (\\N{HIRAGANA LETTER RE}) missing from current font.\n",
            "  fig.canvas.print_figure(bytes_io, **kw)\n"
          ]
        },
        {
          "data": {
            "image/png": "[encoded data removed]",
            "text/plain": [
              "<Figure size 1000x800 with 2 Axes>"
            ]
          },
          "metadata": {},
          "output_type": "display_data"
        },
        {
          "name": "stderr",
          "output_type": "stream",
          "text": [
            "<ipython-input-33-3e74ec82f0ed>:61: UserWarning: Glyph 30561 (\\N{CJK UNIFIED IDEOGRAPH-7761}) missing from current font.\n",
            "  plt.savefig('./regression_coefficients_reduced.png')\n",
            "<ipython-input-33-3e74ec82f0ed>:61: UserWarning: Glyph 30496 (\\N{CJK UNIFIED IDEOGRAPH-7720}) missing from current font.\n",
            "  plt.savefig('./regression_coefficients_reduced.png')\n",
            "<ipython-input-33-3e74ec82f0ed>:61: UserWarning: Glyph 26178 (\\N{CJK UNIFIED IDEOGRAPH-6642}) missing from current font.\n",
            "  plt.savefig('./regression_coefficients_reduced.png')\n",
            "<ipython-input-33-3e74ec82f0ed>:61: UserWarning: Glyph 38291 (\\N{CJK UNIFIED IDEOGRAPH-9593}) missing from current font.\n",
            "  plt.savefig('./regression_coefficients_reduced.png')\n",
            "<ipython-input-33-3e74ec82f0ed>:61: UserWarning: Glyph 12473 (\\N{KATAKANA LETTER SU}) missing from current font.\n",
            "  plt.savefig('./regression_coefficients_reduced.png')\n",
            "<ipython-input-33-3e74ec82f0ed>:61: UserWarning: Glyph 12488 (\\N{KATAKANA LETTER TO}) missing from current font.\n",
            "  plt.savefig('./regression_coefficients_reduced.png')\n",
            "<ipython-input-33-3e74ec82f0ed>:61: UserWarning: Glyph 12524 (\\N{KATAKANA LETTER RE}) missing from current font.\n",
            "  plt.savefig('./regression_coefficients_reduced.png')\n",
            "<ipython-input-33-3e74ec82f0ed>:61: UserWarning: Glyph 19981 (\\N{CJK UNIFIED IDEOGRAPH-4E0D}) missing from current font.\n",
            "  plt.savefig('./regression_coefficients_reduced.png')\n",
            "<ipython-input-33-3e74ec82f0ed>:61: UserWarning: Glyph 23433 (\\N{CJK UNIFIED IDEOGRAPH-5B89}) missing from current font.\n",
            "  plt.savefig('./regression_coefficients_reduced.png')\n",
            "<ipython-input-33-3e74ec82f0ed>:61: UserWarning: Glyph 12452 (\\N{KATAKANA LETTER I}) missing from current font.\n",
            "  plt.savefig('./regression_coefficients_reduced.png')\n",
            "<ipython-input-33-3e74ec82f0ed>:61: UserWarning: Glyph 12521 (\\N{KATAKANA LETTER RA}) missing from current font.\n",
            "  plt.savefig('./regression_coefficients_reduced.png')\n",
            "<ipython-input-33-3e74ec82f0ed>:61: UserWarning: Glyph 30130 (\\N{CJK UNIFIED IDEOGRAPH-75B2}) missing from current font.\n",
            "  plt.savefig('./regression_coefficients_reduced.png')\n",
            "<ipython-input-33-3e74ec82f0ed>:61: UserWarning: Glyph 12428 (\\N{HIRAGANA LETTER RE}) missing from current font.\n",
            "  plt.savefig('./regression_coefficients_reduced.png')\n",
            "/usr/local/lib/python3.10/dist-packages/IPython/core/pylabtools.py:151: UserWarning: Glyph 30561 (\\N{CJK UNIFIED IDEOGRAPH-7761}) missing from current font.\n",
            "  fig.canvas.print_figure(bytes_io, **kw)\n",
            "/usr/local/lib/python3.10/dist-packages/IPython/core/pylabtools.py:151: UserWarning: Glyph 30496 (\\N{CJK UNIFIED IDEOGRAPH-7720}) missing from current font.\n",
            "  fig.canvas.print_figure(bytes_io, **kw)\n",
            "/usr/local/lib/python3.10/dist-packages/IPython/core/pylabtools.py:151: UserWarning: Glyph 26178 (\\N{CJK UNIFIED IDEOGRAPH-6642}) missing from current font.\n",
            "  fig.canvas.print_figure(bytes_io, **kw)\n",
            "/usr/local/lib/python3.10/dist-packages/IPython/core/pylabtools.py:151: UserWarning: Glyph 38291 (\\N{CJK UNIFIED IDEOGRAPH-9593}) missing from current font.\n",
            "  fig.canvas.print_figure(bytes_io, **kw)\n",
            "/usr/local/lib/python3.10/dist-packages/IPython/core/pylabtools.py:151: UserWarning: Glyph 12473 (\\N{KATAKANA LETTER SU}) missing from current font.\n",
            "  fig.canvas.print_figure(bytes_io, **kw)\n",
            "/usr/local/lib/python3.10/dist-packages/IPython/core/pylabtools.py:151: UserWarning: Glyph 12488 (\\N{KATAKANA LETTER TO}) missing from current font.\n",
            "  fig.canvas.print_figure(bytes_io, **kw)\n",
            "/usr/local/lib/python3.10/dist-packages/IPython/core/pylabtools.py:151: UserWarning: Glyph 12524 (\\N{KATAKANA LETTER RE}) missing from current font.\n",
            "  fig.canvas.print_figure(bytes_io, **kw)\n",
            "/usr/local/lib/python3.10/dist-packages/IPython/core/pylabtools.py:151: UserWarning: Glyph 19981 (\\N{CJK UNIFIED IDEOGRAPH-4E0D}) missing from current font.\n",
            "  fig.canvas.print_figure(bytes_io, **kw)\n",
            "/usr/local/lib/python3.10/dist-packages/IPython/core/pylabtools.py:151: UserWarning: Glyph 23433 (\\N{CJK UNIFIED IDEOGRAPH-5B89}) missing from current font.\n",
            "  fig.canvas.print_figure(bytes_io, **kw)\n",
            "/usr/local/lib/python3.10/dist-packages/IPython/core/pylabtools.py:151: UserWarning: Glyph 12452 (\\N{KATAKANA LETTER I}) missing from current font.\n",
            "  fig.canvas.print_figure(bytes_io, **kw)\n",
            "/usr/local/lib/python3.10/dist-packages/IPython/core/pylabtools.py:151: UserWarning: Glyph 12521 (\\N{KATAKANA LETTER RA}) missing from current font.\n",
            "  fig.canvas.print_figure(bytes_io, **kw)\n",
            "/usr/local/lib/python3.10/dist-packages/IPython/core/pylabtools.py:151: UserWarning: Glyph 30130 (\\N{CJK UNIFIED IDEOGRAPH-75B2}) missing from current font.\n",
            "  fig.canvas.print_figure(bytes_io, **kw)\n",
            "/usr/local/lib/python3.10/dist-packages/IPython/core/pylabtools.py:151: UserWarning: Glyph 12428 (\\N{HIRAGANA LETTER RE}) missing from current font.\n",
            "  fig.canvas.print_figure(bytes_io, **kw)\n"
          ]
        },
        {
          "data": {
            "image/png": "[encoded data removed]",
            "text/plain": [
              "<Figure size 1000x600 with 1 Axes>"
            ]
          },
          "metadata": {},
          "output_type": "display_data"
        }
      ],
      "source": [
        "# Import necessary libraries\n",
        "import pandas as pd\n",
        "import numpy as np\n",
        "import statsmodels.api as sm\n",
        "import matplotlib.pyplot as plt\n",
        "import seaborn as sns\n",
        "\n",
        "#会話のログ\n",
        "conversation_history = []\n",
        "\n",
        "# Load the provided CSV file\n",
        "file_path = '/content/drive/MyDrive/アプリ/利用者さんとのプロジェクト/5月現在.csv'\n",
        "data = pd.read_csv(file_path)\n",
        "\n",
        "# Preprocess the data\n",
        "data['睡眠時間'] = data['睡眠時間'].replace('4時間以下', '4').str.replace('時間', '').astype(float)\n",
        "data['訓練開始時間'] = pd.to_datetime(data['訓練開始時間']).dt.hour + pd.to_datetime(data['訓練開始時間']).dt.minute / 60\n",
        "data['訓練終了時間'] = pd.to_datetime(data['訓練終了時間']).dt.hour + pd.to_datetime(data['訓練終了時間']).dt.minute / 60\n",
        "data['起床時間'] = pd.to_datetime(data['起床時間']).dt.hour + pd.to_datetime(data['起床時間']).dt.minute / 60\n",
        "data['ウキウキ'] = data['ウキウキ'].astype(int)\n",
        "data['ストレス'] = data['ストレス'].astype(int)\n",
        "data['不安'] = data['不安'].astype(int)\n",
        "data['イライラ'] = data['イライラ'].fillna(data['イライラ'].mode()[0]).astype(int)\n",
        "data['疲れ'] = data['疲れ'].astype(int)\n",
        "\n",
        "# Select relevant columns for analysis\n",
        "selected_columns = ['訓練開始時間', '訓練終了時間', '起床時間', '睡眠時間', 'ウキウキ', 'ストレス', '不安', 'イライラ', '疲れ']\n",
        "analysis_data = data[selected_columns]\n",
        "\n",
        "# Remove unnecessary variables\n",
        "analysis_data = analysis_data.drop(columns=['訓練開始時間', '訓練終了時間', '起床時間'])\n",
        "\n",
        "# Perform correlation analysis\n",
        "correlation_matrix_reduced = analysis_data.corr()\n",
        "\n",
        "# Perform regression analysis without the constant term\n",
        "# Independent variables\n",
        "X_reduced = analysis_data.drop(columns=['ウキウキ'])\n",
        "# Dependent variable\n",
        "y_reduced = analysis_data['ウキウキ']\n",
        "\n",
        "# Regression model without the constant term\n",
        "model_reduced = sm.OLS(y_reduced, X_reduced).fit()\n",
        "regression_results_reduced = model_reduced.summary()\n",
        "\n",
        "# Visualize the updated results\n",
        "# Correlation matrix heatmap\n",
        "plt.figure(figsize=(10, 8))\n",
        "sns.heatmap(correlation_matrix_reduced, annot=True, cmap='coolwarm', vmin=-1, vmax=1)\n",
        "plt.title('Correlation Matrix Heatmap (Reduced)')\n",
        "plt.savefig('./heatmap_reduced.png')\n",
        "plt.show()\n",
        "\n",
        "# Coefficients plot without the constant term\n",
        "coefficients_reduced = model_reduced.params\n",
        "errors_reduced = model_reduced.bse\n",
        "fig, ax = plt.subplots(figsize=(10, 6))\n",
        "coefficients_reduced.plot(kind='bar', yerr=errors_reduced, ax=ax)\n",
        "ax.set_ylabel('Coefficient Value')\n",
        "ax.set_title('Regression Coefficients with Error Bars (Reduced)')\n",
        "plt.savefig('./regression_coefficients_reduced.png')\n",
        "plt.show()\n",
        "\n",
        "conversation_history.append(correlation_matrix_reduced)\n",
        "conversation_history.append(regression_results_reduced)"
      ]
    },
    {
      "cell_type": "code",
      "execution_count": null,
      "metadata": {
        "id": "b5BDfShs-8n1"
      },
      "outputs": [],
      "source": [
        "import google.generativeai as genai\n",
        "model = genai.GenerativeModel('gemini-pro')"
      ]
    },
    {
      "cell_type": "code",
      "execution_count": null,
      "metadata": {
        "colab": {
          "base_uri": "https://localhost:8080/",
          "height": 90
        },
        "id": "opyAR4tM-wE0",
        "outputId": "54a9fc63-9f67-43fa-db6c-b80338af6152"
      },
      "outputs": [
        {
          "name": "stdout",
          "output_type": "stream",
          "text": [
            "好きな文字を入力してください結果を教えて下さい\n"
          ]
        },
        {
          "data": {
            "application/vnd.google.colaboratory.intrinsic+json": {
              "type": "string"
            },
            "text/plain": [
              "'**関連性の高い要因：**\\n\\n* 睡眠時間（正の関連性）\\n* 疲れ（正の関連性）\\n\\n**関連性の低い要因：**\\n\\n* ストレス（負の関連性）\\n* 不安（正の関連性、ただし有意ではない）\\n* イライラ（負の関連性、ただし有意ではない）\\n\\nこの回帰モデルによると、**睡眠時間が長いほど、「ウキウキ」する感情が強くなる**ことが示されています。また、**疲れていると「ウキウキ」する感情が強くなる**傾向があります。'"
            ]
          },
          "execution_count": 35,
          "metadata": {},
          "output_type": "execute_result"
        }
      ],
      "source": [
        "# 2つの文章の組み合わせを作成\n",
        "prompt = input(\"好きな文字を入力してください：\")\n",
        "combined_text = f\"{prompt}以下の情報を前提にお願いします:\\n1. {conversation_history}\"\n",
        "\n",
        "# テキストの類似度とその根拠をリクエスト\n",
        "response = model.generate_content(combined_text)\n",
        "\n",
        "conversation_history.append(response.text)\n",
        "\n",
        "# 応答のテキスト部分を返す\n",
        "response.text"
      ]
    },
    {
      "cell_type": "code",
      "execution_count": null,
      "metadata": {
        "colab": {
          "base_uri": "https://localhost:8080/",
          "height": 108
        },
        "id": "k5yUWxGCByrc",
        "outputId": "15698213-474e-4d5c-b53e-723dffa41350"
      },
      "outputs": [
        {
          "name": "stdout",
          "output_type": "stream",
          "text": [
            "好きな文字を入力してください：作業を調子よく行うためにどのようなコンディションの維持が良さそうですか？\n"
          ]
        },
        {
          "data": {
            "application/vnd.google.colaboratory.intrinsic+json": {
              "type": "string"
            },
            "text/plain": [
              "'**作業を調子よく行うための条件の維持：**\\n\\n* **十分な睡眠を取る（推奨は6～8時間）：**睡眠時間が長いと、気分が向上し、集中力と生産性が向上します。\\n* **できるだけ疲れを避ける：**疲れは集中力を低下させ、イライラや不安を招きます。十分な睡眠と休憩を取り、ストレスを管理することが重要です。\\n* **ストレスを管理する：**ストレスは作業の質を低下させ、「ウキウキ」する感情を阻害します。ストレス管理のテクニック（例：運動、瞑想、ヨガなど）を練習しましょう。'"
            ]
          },
          "execution_count": 36,
          "metadata": {},
          "output_type": "execute_result"
        }
      ],
      "source": [
        "# 2つの文章の組み合わせを作成\n",
        "prompt = input(\"好きな文字を入力してください：\")\n",
        "combined_text = f\"{prompt}以下の情報を前提にお願いします:\\n1. {conversation_history}\"\n",
        "\n",
        "# テキストの類似度とその根拠をリクエスト\n",
        "response = model.generate_content(combined_text)\n",
        "\n",
        "conversation_history.append(response.text)\n",
        "\n",
        "# 応答のテキスト部分を返す\n",
        "response.text"
      ]
    },
    {
      "cell_type": "code",
      "execution_count": null,
      "metadata": {
        "colab": {
          "base_uri": "https://localhost:8080/",
          "height": 181
        },
        "id": "amDJqcAkCOFr",
        "outputId": "f4fb9f50-5c9d-4b1f-cfb3-1c92e026a7fa"
      },
      "outputs": [
        {
          "name": "stdout",
          "output_type": "stream",
          "text": [
            "好きな文字を入力してください：これまでの会話を教えて下さい\n"
          ]
        },
        {
          "data": {
            "application/vnd.google.colaboratory.intrinsic+json": {
              "type": "string"
            },
            "text/plain": [
              "'**これまでの会話：**\\n\\n[利用者] 睡眠時間、ストレス、不安、イライラ、疲れ、ウキウキの相関関係を教えてください。\\n\\n[AI] 相関行列は次のとおりです：\\n\\n[行列]\\n\\n[利用者] ウキウキする感情に関連性の高い要因と低い要因を教えてください。\\n\\n[AI] **関連性の高い要因：**\\n\\n* 睡眠時間（正の関連性）\\n* 疲れ（正の関連性）\\n\\n**関連性の低い要因：**\\n\\n* ストレス（負の関連性）\\n* 不安（正の関連性、ただし有意ではない）\\n* イライラ（負の関連性、ただし有意ではない）\\n\\n[利用者] 作業を調子よく行うための条件を教えてください。\\n\\n[AI] **作業を調子よく行うための条件の維持：**\\n\\n* **十分な睡眠を取る（推奨は6～8時間）：**睡眠時間が長いと、気分が向上し、集中力と生産性が向上します。\\n* **できるだけ疲れを避ける：**疲れは集中力を低下させ、イライラや不安を招きます。十分な睡眠と休憩を取り、ストレスを管理することが重要です。\\n* **ストレスを管理する：**ストレスは作業の質を低下させ、「ウキウキ」する感情を阻害します。ストレス管理のテクニック（例：運動、瞑想、ヨガなど）を練習しましょう。'"
            ]
          },
          "execution_count": 37,
          "metadata": {},
          "output_type": "execute_result"
        }
      ],
      "source": [
        "# 2つの文章の組み合わせを作成\n",
        "prompt = input(\"好きな文字を入力してください：\")\n",
        "combined_text = f\"{prompt}以下の情報を前提にお願いします:\\n1. {conversation_history}\"\n",
        "\n",
        "# テキストの類似度とその根拠をリクエスト\n",
        "response = model.generate_content(combined_text)\n",
        "\n",
        "conversation_history.append(response.text)\n",
        "\n",
        "# 応答のテキスト部分を返す\n",
        "response.text"
      ]
    },
    {
      "cell_type": "code",
      "execution_count": null,
      "metadata": {
        "colab": {
          "base_uri": "https://localhost:8080/",
          "height": 126
        },
        "id": "fJRZov1kCtSY",
        "outputId": "20621607-49f7-4528-a5f4-909d9081d20f"
      },
      "outputs": [
        {
          "name": "stdout",
          "output_type": "stream",
          "text": [
            "好きな文字を入力してください：相関分析と回帰分析の結果を教えて下さい\n"
          ]
        },
        {
          "data": {
            "application/vnd.google.colaboratory.intrinsic+json": {
              "type": "string"
            },
            "text/plain": [
              "'**相関分析の結果：**\\n\\n* 睡眠時間とウキウキ：正の相関（r = 0.5237）\\n* ストレスとウキウキ：負の相関（r = -0.2784）\\n* 不安とウキウキ：正の相関（r = 0.2398）\\n* イライラとウキウキ：負の相関（r = -0.5860）\\n* 疲れとウキウキ：正の相関（r = 0.2951）\\n\\n**回帰分析の結果：**\\n\\n**ウキウキ = 0.5237 * 睡眠時間 - 0.2784 * ストレス + 0.2398 * 不安 - 0.5860 * イライラ + 0.2951 * 疲れ**\\n\\n**関連性の高い要因：**\\n\\n* 睡眠時間（正の関連性）\\n* 疲れ（正の関連性）\\n\\n**関連性の低い要因：**\\n\\n* ストレス（負の関連性）\\n* 不安（正の関連性、ただし有意ではない）\\n* イライラ（負の関連性、ただし有意ではない）'"
            ]
          },
          "execution_count": 38,
          "metadata": {},
          "output_type": "execute_result"
        }
      ],
      "source": [
        "# 2つの文章の組み合わせを作成\n",
        "prompt = input(\"好きな文字を入力してください：\")\n",
        "combined_text = f\"{prompt}以下の情報を前提にお願いします:\\n1. {conversation_history}\"\n",
        "\n",
        "# テキストの類似度とその根拠をリクエスト\n",
        "response = model.generate_content(combined_text)\n",
        "\n",
        "conversation_history.append(response.text)\n",
        "\n",
        "# 応答のテキスト部分を返す\n",
        "response.text"
      ]
    },
    {
      "cell_type": "markdown",
      "metadata": {
        "id": "0slMT0ZWCZw6"
      },
      "source": [
        "**これまでの会話：**\n",
        "\n",
        "[利用者] 睡眠時間、ストレス、不安、イライラ、疲れ、ウキウキの相関関係を教えてください。\n",
        "\n",
        "[AI] 相関行列は次のとおりです：\n",
        "\n",
        "[行列]\n",
        "\n",
        "[利用者] ウキウキする感情に関連性の高い要因と低い要因を教えてください。\n",
        "\n",
        "[AI] **関連性の高い要因：**\n",
        "\n",
        "* 睡眠時間（正の関連性）\n",
        "* 疲れ（正の関連性）\n",
        "\n",
        "**関連性の低い要因：**\n",
        "\n",
        "* ストレス（負の関連性）\n",
        "* 不安（正の関連性、ただし有意ではない）\n",
        "* イライラ（負の関連性、ただし有意ではない）\n",
        "\n",
        "[利用者] 作業を調子よく行うための条件を教えてください。\n",
        "\n",
        "[AI] **作業を調子よく行うための条件の維持：**\n",
        "\n",
        "* **十分な睡眠を取る（推奨は6～8時間）：**睡眠時間が長いと、気分が向上し、集中力と生産性が向上します。\n",
        "* **できるだけ疲れを避ける：**疲れは集中力を低下させ、イライラや不安を招きます。十分な睡眠と休憩を取り、ストレスを管理することが重要です。\n",
        "* **ストレスを管理する：**ストレスは作業の質を低下させ、「ウキウキ」する感情を阻害します。ストレス管理のテクニック（例：運動、瞑想、ヨガなど）を練習しましょう。"
      ]
    },
    {
      "cell_type": "code",
      "execution_count": null,
      "metadata": {
        "colab": {
          "base_uri": "https://localhost:8080/",
          "height": 199
        },
        "id": "vKaGq3obsSfD",
        "outputId": "2cbd839d-7c17-40d8-d108-7a956cfb74d7"
      },
      "outputs": [
        {
          "data": {
            "application/vnd.google.colaboratory.intrinsic+json": {
              "type": "string"
            },
            "text/plain": [
              "'**結果の解説**\\n\\n与えられた結果は、睡眠時間、ウキウキ度、ストレス、不安、イライラ、疲れの間の相関を調べる線形回帰分析のものです。\\n\\n**相関関係**\\n\\n相関行列を見ると、睡眠時間とウキウキ度は負の相関関係があり（-0.41）、睡眠時間が長いほどウキウキ度が低くなります。\\n\\n逆に、睡眠時間とイライラは正の相関関係があり（0.49）、睡眠時間が長いほどイライラしやすくなります。\\n\\n**回帰分析**\\n\\n回帰分析の結果では、ウキウキ度を従属変数として、睡眠時間、ストレス、不安、イライラ、疲れを独立変数としています。\\n\\n**R-二乗値**\\n\\nこのモデルのR-二乗値は0.933で、これは独立変数がウキウキ度の変動の93.3%を説明することを示しています。これは非常によく説明が効いていることを示します。\\n\\n**有意な予測因子**\\n\\n回帰係数を見ると、睡眠時間（p = 0.000）、イライラ（p = 0.017）、疲れ（p = 0.018）がウキウキ度に有意な影響を与えていることがわかります。\\n\\n具体的には、睡眠時間が1時間増えるごとに、ウキウキ度は0.5237ポイント低下します。同様に、イライラが1ポイント増えるごとに、ウキウキ度は0.586ポイント低下し、疲れが1ポイント増えるごとに、ウキウキ度は0.2951ポイント上昇します。\\n\\nストレス（p = 0.221）と不安（p = 0.229）は有意な予測因子ではありませんでした。\\n\\n**結論**\\n\\nこの分析結果から、睡眠時間がウキウキ度に大きな影響を与えていることがわかります。睡眠時間が長ければ長いほど、ウキウキ度は低下し、イライラと疲れが増加します。'"
            ]
          },
          "execution_count": 30,
          "metadata": {},
          "output_type": "execute_result"
        }
      ],
      "source": [
        "import google.generativeai as genai\n",
        "model = genai.GenerativeModel('gemini-pro')\n",
        "# 2つの文章の組み合わせを作成\n",
        "combined_text = f\"以下の結果を解説してください。その上で解説をお願いします:\\n1. {correlation_matrix_reduced}, {regression_results_reduced}\"\n",
        "\n",
        "# テキストの類似度とその根拠をリクエスト\n",
        "response = model.generate_content(combined_text)\n",
        "\n",
        "# 応答のテキスト部分を返す\n",
        "response.text"
      ]
    },
    {
      "cell_type": "markdown",
      "metadata": {
        "id": "xslm8s0Ztu67"
      },
      "source": [
        "**結果の解説**\n",
        "\n",
        "与えられた結果は、睡眠時間、ウキウキ度、ストレス、不安、イライラ、疲れの間の相関を調べる線形回帰分析のものです。\n",
        "\n",
        "**相関関係**\n",
        "\n",
        "相関行列を見ると、睡眠時間とウキウキ度は負の相関関係があり（-0.41）、睡眠時間が長いほどウキウキ度が低くなります。\n",
        "\n",
        "逆に、睡眠時間とイライラは正の相関関係があり（0.49）、睡眠時間が長いほどイライラしやすくなります。\n",
        "\n",
        "**回帰分析**\n",
        "\n",
        "回帰分析の結果では、ウキウキ度を従属変数として、睡眠時間、ストレス、不安、イライラ、疲れを独立変数としています。\n",
        "\n",
        "**R-二乗値**\n",
        "\n",
        "このモデルのR-二乗値は0.933で、これは独立変数がウキウキ度の変動の93.3%を説明することを示しています。これは非常によく説明が効いていることを示します。\n",
        "\n",
        "**有意な予測因子**\n",
        "\n",
        "回帰係数を見ると、睡眠時間（p = 0.000）、イライラ（p = 0.017）、疲れ（p = 0.018）がウキウキ度に有意な影響を与えていることがわかります。\n",
        "\n",
        "具体的には、睡眠時間が1時間増えるごとに、ウキウキ度は0.5237ポイント低下します。同様に、イライラが1ポイント増えるごとに、ウキウキ度は0.586ポイント低下し、疲れが1ポイント増えるごとに、ウキウキ度は0.2951ポイント上昇します。\n",
        "\n",
        "ストレス（p = 0.221）と不安（p = 0.229）は有意な予測因子ではありませんでした。\n",
        "\n",
        "**結論**\n",
        "\n",
        "この分析結果から、睡眠時間がウキウキ度に大きな影響を与えていることがわかります。睡眠時間が長ければ長いほど、ウキウキ度は低下し、イライラと疲れが増加します。"
      ]
    },
    {
      "cell_type": "code",
      "execution_count": null,
      "metadata": {
        "colab": {
          "base_uri": "https://localhost:8080/",
          "height": 253
        },
        "id": "cJFKHOW83GFy",
        "outputId": "a0ce3c86-51ac-4c17-e919-8a4ce088fb4d"
      },
      "outputs": [
        {
          "data": {
            "application/vnd.google.colaboratory.intrinsic+json": {
              "type": "string"
            },
            "text/plain": [
              "'**提案 1: 睡眠の質の改善**\\n\\n**データに基づいた具体的なアドバイス:**\\n\\n* 毎晩 7～9 時間の睡眠時間を確保する。\\n* 就寝時間と起床時間を一定にする。\\n* 寝室を暗く、静かに、涼しくする。\\n* 寝る前にカフェインやアルコールを避ける。\\n* 就寝前のルーティンを作成する（例：温かいお風呂、読書、日記を書く）。\\n\\n**提案 2: イライラの軽減**\\n\\n**データに基づいた具体的なアドバイス:**\\n\\n* 認知行動療法（CBT）により、イライラの考えや行動パターンに対処する。\\n* マインドフルネスに基づくストレス低減（MBSR）を練習して、現在の瞬間への注目力を向上させる。\\n* 定期的に運動して、ストレスホルモンを減らし、気分を向上させる。\\n\\n**提案 3: 疲労の軽減**\\n\\n**データに基づいた具体的なアドバイス:**\\n\\n* 毎晩少なくとも 7 時間の睡眠をとる。\\n* 週に 150 分の中強度の運動、または 75 分の激しい運動を行う。\\n* 健康的な食事で、果物、野菜、全粒穀物を豊富に摂る。\\n* カフェインや砂糖を制限する。\\n\\n**提案 4: ストレスと不安の管理**\\n\\n**データに基づいた具体的なアドバイス:**\\n\\n* 認知行動療法（CBT）により、ストレスや不安を引き起こす考えや行動パターンに対処する。\\n* マインドフルネスを練習して、現在に集中し、不安な考えを管理する。\\n* カウンセリングやセラピーにより、ストレスや不安の根底にある問題に対処する。\\n* 抗不安薬や抗うつ薬を考慮する（医師の指示に基づく）。\\n\\n**提案 5: ウキウキ度の向上のための総合的なアプローチ**\\n\\n**データに基づいた具体的なアドバイス:**\\n\\n* 睡眠、イライラ、疲労、ストレス、不安の相互関係を認識する。\\n* 睡眠の質を向上させる、イライラを軽減する、疲労を軽減する、ストレスと不安を管理する戦略を組み合わせる。\\n* 健康的なライフスタイルの習慣を促進する（例：運動、健康的な食事、マインドフルネス）。\\n* パーソナライズされた介入を作成して、個人のニーズに合わせ、ウキウキ度を最大化する。'"
            ]
          },
          "execution_count": 32,
          "metadata": {},
          "output_type": "execute_result"
        }
      ],
      "source": [
        "import google.generativeai as genai\n",
        "model = genai.GenerativeModel('gemini-pro')\n",
        "# 2つの文章の組み合わせを作成\n",
        "combined_text = f\"以下の情報からどのような提案が考えられますでしょうか？データをベースにした具体的なアドバイスが欲しいです:\\n1. {response.text}\"\n",
        "\n",
        "# テキストの類似度とその根拠をリクエスト\n",
        "response = model.generate_content(combined_text)\n",
        "\n",
        "# 応答のテキスト部分を返す\n",
        "response.text"
      ]
    },
    {
      "cell_type": "markdown",
      "metadata": {
        "id": "16L0OG8-6tjU"
      },
      "source": [
        "**提案 1: 睡眠の質の改善**\n",
        "\n",
        "**データに基づいた具体的なアドバイス:**\n",
        "\n",
        "* 毎晩 7～9 時間の睡眠時間を確保する。\n",
        "* 就寝時間と起床時間を一定にする。\n",
        "* 寝室を暗く、静かに、涼しくする。\n",
        "* 寝る前にカフェインやアルコールを避ける。\n",
        "* 就寝前のルーティンを作成する（例：温かいお風呂、読書、日記を書く）。\n",
        "\n",
        "**提案 2: イライラの軽減**\n",
        "\n",
        "**データに基づいた具体的なアドバイス:**\n",
        "\n",
        "* 認知行動療法（CBT）により、イライラの考えや行動パターンに対処する。\n",
        "* マインドフルネスに基づくストレス低減（MBSR）を練習して、現在の瞬間への注目力を向上させる。\n",
        "* 定期的に運動して、ストレスホルモンを減らし、気分を向上させる。\n",
        "\n",
        "**提案 3: 疲労の軽減**\n",
        "\n",
        "**データに基づいた具体的なアドバイス:**\n",
        "\n",
        "* 毎晩少なくとも 7 時間の睡眠をとる。\n",
        "* 週に 150 分の中強度の運動、または 75 分の激しい運動を行う。\n",
        "* 健康的な食事で、果物、野菜、全粒穀物を豊富に摂る。\n",
        "* カフェインや砂糖を制限する。\n",
        "\n",
        "**提案 4: ストレスと不安の管理**\n",
        "\n",
        "**データに基づいた具体的なアドバイス:**\n",
        "\n",
        "* 認知行動療法（CBT）により、ストレスや不安を引き起こす考えや行動パターンに対処する。\n",
        "* マインドフルネスを練習して、現在に集中し、不安な考えを管理する。\n",
        "* カウンセリングやセラピーにより、ストレスや不安の根底にある問題に対処する。\n",
        "* 抗不安薬や抗うつ薬を考慮する（医師の指示に基づく）。\n",
        "\n",
        "**提案 5: ウキウキ度の向上のための総合的なアプローチ**\n",
        "\n",
        "**データに基づいた具体的なアドバイス:**\n",
        "\n",
        "* 睡眠、イライラ、疲労、ストレス、不安の相互関係を認識する。\n",
        "* 睡眠の質を向上させる、イライラを軽減する、疲労を軽減する、ストレスと不安を管理する戦略を組み合わせる。\n",
        "* 健康的なライフスタイルの習慣を促進する（例：運動、健康的な食事、マインドフルネス）。\n",
        "* パーソナライズされた介入を作成して、個人のニーズに合わせ、ウキウキ度を最大化する。"
      ]
    },
    {
      "cell_type": "markdown",
      "metadata": {
        "id": "xOcgQLdnWcXk"
      },
      "source": [
        "# 分析結果\n",
        "\n",
        "## 相関分析\n",
        "以下は、各変数間の相関行列のヒートマップです。これは、各変数間の相関関係を視覚的に示しています。\n",
        "\n",
        "- **相関行列のヒートマップ**:\n",
        "  ![相関行列のヒートマップ](sandbox:/mnt/data/heatmap_reduced.png)\n",
        "\n",
        "## 回帰分析\n",
        "以下は、「ウキウキ度」を予測するための回帰分析の結果です：\n",
        "\n",
        "```plaintext\n",
        "                             OLS Regression Results                            \n",
        "==============================================================================\n",
        "Dep. Variable:                   ウキウキ   R-squared (uncentered):              0.932\n",
        "Model:                            OLS   Adj. R-squared (uncentered):           0.922\n",
        "Method:                 Least Squares   F-statistic:                          85.77\n",
        "Date:                Sun, 16 Jun 2024   Prob (F-statistic):                    3.28e-17\n",
        "Time:                        23:12:37   Log-Likelihood:                         -46.325\n",
        "No. Observations:                  36   AIC:                                      102.7\n",
        "Df Residuals:                      31   BIC:                                      110.6\n",
        "Df Model:                           5                                                  \n",
        "Covariance Type:            nonrobust                                                  \n",
        "==============================================================================\n",
        "                 coef    std err          t      P>|t|      [0.025      0.975]\n",
        "------------------------------------------------------------------------------\n",
        "睡眠時間          0.5237      0.062      8.491      0.000       0.398       0.650\n",
        "ストレス         -0.2784      0.223     -1.249      0.221      -0.733       0.176\n",
        "不安            0.2398      0.195      1.227      0.229      -0.159       0.638\n",
        "イライラ         -0.5860      0.231     -2.533      0.017      -1.058      -0.114\n",
        "疲れ            0.2951      0.118      2.506      0.018       0.055       0.535\n",
        "==============================================================================\n",
        "Omnibus:                        1.486   Durbin-Watson:                   1.480\n",
        "Prob(Omnibus):                  0.476   Jarque-Bera (JB):                1.103\n",
        "Skew:                          -0.161   Prob(JB):                        0.576\n",
        "Kurtosis:                       2.206   Cond. No.                         14.2\n",
        "==============================================================================\n",
        "\n",
        "Notes:\n",
        "[1] R² is computed without centering (uncentered) since the model does not contain a constant.\n",
        "[2] Standard Errors assume that the covariance matrix of the errors is correctly specified.\n",
        "```\n",
        "\n",
        "# 解説\n",
        "\n",
        "## 相関分析の解説\n",
        "- **ウキウキ度と他の変数の相関**:\n",
        "  - ウキウキ度と睡眠時間には正の相関があります（0.524）。これは、睡眠時間が増えるとウキウキ度が上がる傾向があることを示しています。\n",
        "  - ウキウキ度とストレスには負の相関があります（-0.278）。これは、ストレスが増えるとウキウキ度が下がる傾向があることを示しています。\n",
        "  - ウキウキ度とイライラには強い負の相関があります（-0.586）。これは、イライラが増えるとウキウキ度が大きく下がることを示しています。\n",
        "\n",
        "## 回帰分析の解説\n",
        "- **モデルの有効性**:\n",
        "  - このモデルのR-squaredは0.932であり、これはモデルがデータの変動の93.2%を説明できることを示しています。これは非常に高い値であり、モデルがデータに対して適合していることを示しています。\n",
        "\n",
        "- **各変数の影響**:\n",
        "  - **睡眠時間**:\n",
        "    - 睡眠時間の係数は0.524で、これは睡眠時間が1時間増えるとウキウキ度が0.524ポイント上がることを示しています。この結果は統計的に非常に有意（p < 0.001）です。\n",
        "  - **ストレス**:\n",
        "    - ストレスの係数は-0.278で、これはストレスが1ポイント増えるとウキウキ度が0.278ポイント下がることを示しています。ただし、この結果は統計的に有意ではありません（p > 0.05）。\n",
        "  - **不安**:\n",
        "    - 不安の係数は0.240で、これは不安が1ポイント増えるとウキウキ度が0.240ポイント上がることを示していますが、この結果は統計的に有意ではありません（p > 0.05）。\n",
        "  - **イライラ**:\n",
        "    - イライラの係数は-0.586で、これはイライラが1ポイント増えるとウキウキ度が0.586ポイント下がることを示しています。この結果は統計的に有意です（p < 0.05）。\n",
        "  - **疲れ**:\n",
        "    - 疲れの係数は0.295で、これは疲れが1ポイント増えるとウキウキ度が0.295ポイント上がることを示しています。この結果は統計的に有意です（p < 0.05）。\n",
        "\n",
        "# 考察\n",
        "1. **睡眠時間の重要性**:\n",
        "   - 睡眠時間がウキウキ度に与える影響は大きく、睡眠時間を十分に確保することが精神的な健康にとって重要であることが示唆されます。\n",
        "\n",
        "2. **ストレスとイライラの影響**:\n",
        "   - ストレスとイライラがウキウキ度を低下させることがわかりました。特にイライラは非常に強い負の影響を与えています。このことから、ストレス管理やリラクゼーションの手法を取り入れることが精神的な健康を維持するために重要であることが示唆されます。\n",
        "\n",
        "3. **不安と疲れの予想外の影響**:\n",
        "   - 不安がウキウキ度を上げる傾向が見られましたが、これは直感に反する結果です。これはデータの特性や他の要因が影響している可能性があります。\n",
        "   - 疲れがウキウキ度を上げる結果も予想外であり、これもさらなる調査が必要です。\n",
        "\n",
        "# 結論\n",
        "この分析から、睡眠時間を増やし、ストレスやイライラを減らすことがウキウキ度を向上させるために重要であることが示唆されました。今後の研究では、不安や疲れがウキウキ度に与える影響についてさらに詳しく調査する必要があります。\n"
      ]
    },
    {
      "cell_type": "markdown",
      "metadata": {
        "id": "9RFfR1kQZ_vl"
      },
      "source": [
        "# 具体的なアクションプラン\n",
        "\n",
        "## 1. 睡眠時間の確保\n",
        "- **データ結果**: 睡眠時間が増えるとウキウキ度が上がる（正の相関：0.524）。\n",
        "- **具体的な提案**:\n",
        "  - **目標設定**: 毎日7-8時間の睡眠を確保することを目標にする。\n",
        "  - **実施方法**:\n",
        "    - 就寝時間と起床時間を固定し、規則正しい睡眠習慣を身につける。\n",
        "    - 寝る前の1時間はリラックスするための時間とし、スマートフォンやパソコンなどの画面を見ない。\n",
        "    - 寝室の環境を整える（静かで暗い部屋、快適な温度）。\n",
        "\n",
        "## 2. ストレス管理\n",
        "- **データ結果**: ストレスが増えるとウキウキ度が下がる（負の相関：-0.278）。\n",
        "- **具体的な提案**:\n",
        "  - **目標設定**: 毎日のストレスレベルを3以下に保つことを目標にする。\n",
        "  - **実施方法**:\n",
        "    - 毎日10分間の瞑想や深呼吸を行う。\n",
        "    - 週に1回、好きな趣味やリラックスできるアクティビティに時間を使う。\n",
        "    - ストレスを感じたときには、その原因を書き出し、解決策を考える時間を持つ。\n",
        "\n",
        "## 3. イライラの軽減\n",
        "- **データ結果**: イライラが増えるとウキウキ度が大きく下がる（負の相関：-0.586）。\n",
        "- **具体的な提案**:\n",
        "  - **目標設定**: 毎日のイライラ度を2以下に保つことを目標にする。\n",
        "  - **実施方法**:\n",
        "    - 怒りを感じたときには、その場で深呼吸をして気持ちを落ち着ける。\n",
        "    - イライラの原因を日記に書き出し、解決策を見つける習慣をつける。\n",
        "    - 定期的にマッサージやヨガなど、リラクゼーションのための時間を設ける。\n",
        "\n",
        "## 4. 疲れの管理\n",
        "- **データ結果**: 疲れが増えるとウキウキ度が上がる（正の相関：0.295）。\n",
        "  - これは一見直感に反する結果ですが、疲労感が活動の達成感や充実感に繋がっている可能性があります。したがって、疲労管理をしつつも、充実感を高める活動を提案します。\n",
        "- **具体的な提案**:\n",
        "  - **目標設定**: 健康的な疲れを感じつつも、過度な疲労を避けることを目標にする。\n",
        "  - **実施方法**:\n",
        "    - **アクティブな生活**: 軽い運動や趣味の活動を積極的に取り入れ、達成感を感じる。\n",
        "    - **休息の確保**: 適度な休息を取り、過度な疲労を避ける（1時間ごとに5分間の休憩）。\n",
        "    - **栄養管理**: バランスの取れた食事を心がけ、特にビタミンやミネラルをしっかり摂る。\n",
        "\n",
        "# フィードバックと継続的な改善\n",
        "1. **データモニタリング**:\n",
        "   - 毎日、自分の睡眠時間、ストレスレベル、イライラ度、疲れ度を記録し、ウキウキ度との関係を確認する。\n",
        "   - ウキウキ度が下がったときには、その日の他の指標を見直し、原因を特定する。\n",
        "\n",
        "2. **定期的な見直し**:\n",
        "   - 1ヶ月ごとにデータを見直し、アクションプランの効果を評価する。\n",
        "   - 目標が達成できなかった場合には、新たな対策を考え、次の月に実施する。\n",
        "\n",
        "これらの具体的なアクションプランを実施することで、データに基づいた健康状態の改善が期待できます。継続的なデータのモニタリングとフィードバックを通じて、自身の健康管理をより効果的に行ってください。\n"
      ]
    },
    {
      "cell_type": "markdown",
      "metadata": {
        "id": "H1qHsu9unbd7"
      },
      "source": [
        "# StreamlitApp"
      ]
    },
    {
      "cell_type": "markdown",
      "metadata": {
        "id": "d_4FA9X01rxG"
      },
      "source": [
        "##環境構築"
      ]
    },
    {
      "cell_type": "code",
      "execution_count": null,
      "metadata": {
        "id": "-0PRTv841rxG",
        "colab": {
          "base_uri": "https://localhost:8080/"
        },
        "outputId": "e489511c-fa1e-475d-a81b-ece2a52cba87"
      },
      "outputs": [
        {
          "output_type": "stream",
          "name": "stdout",
          "text": [
            "\u001b[2K     \u001b[90m━━━━━━━━━━━━━━━━━━━━━━━━━━━━━━━━━━━━━━━━\u001b[0m \u001b[32m8.6/8.6 MB\u001b[0m \u001b[31m34.6 MB/s\u001b[0m eta \u001b[36m0:00:00\u001b[0m\n",
            "\u001b[2K     \u001b[90m━━━━━━━━━━━━━━━━━━━━━━━━━━━━━━━━━━━━━━━━\u001b[0m \u001b[32m207.3/207.3 kB\u001b[0m \u001b[31m10.1 MB/s\u001b[0m eta \u001b[36m0:00:00\u001b[0m\n",
            "\u001b[2K     \u001b[90m━━━━━━━━━━━━━━━━━━━━━━━━━━━━━━━━━━━━━━━━\u001b[0m \u001b[32m6.9/6.9 MB\u001b[0m \u001b[31m28.2 MB/s\u001b[0m eta \u001b[36m0:00:00\u001b[0m\n",
            "\u001b[2K     \u001b[90m━━━━━━━━━━━━━━━━━━━━━━━━━━━━━━━━━━━━━━━━\u001b[0m \u001b[32m83.0/83.0 kB\u001b[0m \u001b[31m3.9 MB/s\u001b[0m eta \u001b[36m0:00:00\u001b[0m\n",
            "\u001b[2K     \u001b[90m━━━━━━━━━━━━━━━━━━━━━━━━━━━━━━━━━━━━━━━━\u001b[0m \u001b[32m62.7/62.7 kB\u001b[0m \u001b[31m2.1 MB/s\u001b[0m eta \u001b[36m0:00:00\u001b[0m\n",
            "\u001b[?25h"
          ]
        }
      ],
      "source": [
        "!pip install streamlit -q\n",
        "!pip install pyngrok -q"
      ]
    },
    {
      "cell_type": "code",
      "execution_count": null,
      "metadata": {
        "id": "yXfzNyhE1rxG"
      },
      "outputs": [],
      "source": [
        "import streamlit as st\n",
        "from pyngrok import ngrok"
      ]
    },
    {
      "cell_type": "code",
      "execution_count": null,
      "metadata": {
        "id": "wTBjGPdv1rxG"
      },
      "outputs": [],
      "source": [
        "from google.colab import userdata\n",
        "NGROK_AUTH_TOKEN = userdata.get('NGROK_AUTH_TOKEN')"
      ]
    },
    {
      "cell_type": "code",
      "execution_count": null,
      "metadata": {
        "id": "SUP7mo2B1rxG",
        "colab": {
          "base_uri": "https://localhost:8080/"
        },
        "outputId": "86b2f51f-ca70-4471-c137-84b469964cc4"
      },
      "outputs": [
        {
          "output_type": "stream",
          "name": "stdout",
          "text": []
        }
      ],
      "source": [
        "from pyngrok import ngrok\n",
        "import os\n",
        "\n",
        "# ngrokトークンを設定\n",
        "ngrok.set_auth_token(NGROK_AUTH_TOKEN)"
      ]
    },
    {
      "cell_type": "markdown",
      "metadata": {
        "id": "KfkVixYM1rxG"
      },
      "source": [
        "##実行ファイル"
      ]
    },
    {
      "cell_type": "code",
      "execution_count": null,
      "metadata": {
        "colab": {
          "base_uri": "https://localhost:8080/"
        },
        "id": "o-2s8S0rnFwz",
        "outputId": "80a0b169-233a-42b7-df44-9a60975e977e"
      },
      "outputs": [
        {
          "output_type": "stream",
          "name": "stdout",
          "text": [
            "Writing requirements.txt\n"
          ]
        }
      ],
      "source": [
        "%%writefile requirements.txt\n",
        "japanize-matplotlib"
      ]
    },
    {
      "cell_type": "code",
      "execution_count": null,
      "metadata": {
        "id": "yr6duDmUaVP5",
        "colab": {
          "base_uri": "https://localhost:8080/"
        },
        "outputId": "ee66af5c-3c8e-48b2-f4cb-61e74877a684"
      },
      "outputs": [
        {
          "output_type": "stream",
          "name": "stdout",
          "text": [
            "\u001b[2K     \u001b[90m━━━━━━━━━━━━━━━━━━━━━━━━━━━━━━━━━━━━━━━━\u001b[0m \u001b[32m4.1/4.1 MB\u001b[0m \u001b[31m8.9 MB/s\u001b[0m eta \u001b[36m0:00:00\u001b[0m\n",
            "\u001b[?25h  Preparing metadata (setup.py) ... \u001b[?25l\u001b[?25hdone\n",
            "  Building wheel for japanize-matplotlib (setup.py) ... \u001b[?25l\u001b[?25hdone\n"
          ]
        }
      ],
      "source": [
        "!pip install japanize-matplotlib -q"
      ]
    },
    {
      "cell_type": "markdown",
      "metadata": {
        "id": "ixmAsKhQDsTG"
      },
      "source": [
        "## version1.0"
      ]
    },
    {
      "cell_type": "markdown",
      "metadata": {
        "id": "_Cp-U_vhDwlI"
      },
      "source": [
        "## version1.1"
      ]
    },
    {
      "cell_type": "code",
      "execution_count": null,
      "metadata": {
        "colab": {
          "base_uri": "https://localhost:8080/"
        },
        "id": "-QwtNR1KHwA-",
        "outputId": "f7ec7723-9350-4605-bc4e-b126ee0dc6c0"
      },
      "outputs": [
        {
          "output_type": "stream",
          "name": "stdout",
          "text": [
            "Writing streamlit_app.py\n"
          ]
        }
      ],
      "source": [
        "%%writefile  streamlit_app.py\n",
        "import streamlit as st\n",
        "import pandas as pd\n",
        "import numpy as np\n",
        "import statsmodels.api as sm\n",
        "import matplotlib.pyplot as plt\n",
        "import seaborn as sns\n",
        "import japanize_matplotlib\n",
        "import google.generativeai as genai\n",
        "\n",
        "# APIキー入力部分\n",
        "api_key = st.text_input(\"APIキーを入力してください:\", value=\"\", type=\"password\")\n",
        "genai.configure(api_key=api_key)\n",
        "\n",
        "# Generative AIモデルの設定（仮のモデル名）\n",
        "model = genai.GenerativeModel('gemini-pro')\n",
        "\n",
        "# セッションステートを初期化\n",
        "if 'conversation_history' not in st.session_state:\n",
        "    st.session_state.conversation_history = []\n",
        "\n",
        "# Streamlitアプリの設定\n",
        "st.title(\"HealthTracker(仮)\")\n",
        "\n",
        "# CSVファイルのアップロード\n",
        "uploaded_file = st.file_uploader(\"CSVファイルをアップロード\", type=[\"csv\"])\n",
        "\n",
        "if uploaded_file is not None:\n",
        "    # CSVファイルの読み込み\n",
        "    data = pd.read_csv(uploaded_file)\n",
        "\n",
        "    # データの前処理\n",
        "    data['睡眠時間'] = data['睡眠時間'].replace('4時間以下', '4').str.replace('時間', '').astype(float)\n",
        "    data['訓練開始時間'] = pd.to_datetime(data['訓練開始時間']).dt.hour + pd.to_datetime(data['訓練開始時間']).dt.minute / 60\n",
        "    data['訓練終了時間'] = pd.to_datetime(data['訓練終了時間']).dt.hour + pd.to_datetime(data['訓練終了時間']).dt.minute / 60\n",
        "    data['起床時間'] = pd.to_datetime(data['起床時間']).dt.hour + pd.to_datetime(data['起床時間']).dt.minute / 60\n",
        "    data['ウキウキ'] = data['ウキウキ'].astype(int)\n",
        "    data['ストレス'] = data['ストレス'].astype(int)\n",
        "    data['不安'] = data['不安'].astype(int)\n",
        "    data['イライラ'] = data['イライラ'].fillna(data['イライラ'].mode()[0]).astype(int)\n",
        "    data['疲れ'] = data['疲れ'].astype(int)\n",
        "\n",
        "    # 必要な変数の選択\n",
        "    selected_columns = ['訓練開始時間', '訓練終了時間', '起床時間', '睡眠時間', 'ウキウキ', 'ストレス', '不安', 'イライラ', '疲れ']\n",
        "    analysis_data = data[selected_columns]\n",
        "\n",
        "    # 不要な変数の削除\n",
        "    analysis_data = analysis_data.drop(columns=['訓練開始時間', '訓練終了時間', '起床時間'])\n",
        "\n",
        "    # 相関分析の実行\n",
        "    correlation_matrix_reduced = analysis_data.corr()\n",
        "\n",
        "    # 回帰分析の実行\n",
        "    X_reduced = analysis_data.drop(columns=['ウキウキ'])\n",
        "    y_reduced = analysis_data['ウキウキ']\n",
        "    model_reduced = sm.OLS(y_reduced, X_reduced).fit()\n",
        "    regression_results_reduced = model_reduced.summary()\n",
        "\n",
        "    # 相関行列のヒートマップの表示\n",
        "    st.subheader(\"相関行列のヒートマップ\")\n",
        "    fig, ax = plt.subplots(figsize=(10, 8))\n",
        "    sns.heatmap(correlation_matrix_reduced, annot=True, cmap='coolwarm', vmin=-1, vmax=1, ax=ax)\n",
        "    st.pyplot(fig)\n",
        "\n",
        "    # 回帰係数のプロットの表示\n",
        "    st.subheader(\"回帰係数のプロット\")\n",
        "    coefficients_reduced = model_reduced.params\n",
        "    errors_reduced = model_reduced.bse\n",
        "    fig, ax = plt.subplots(figsize=(10, 6))\n",
        "    coefficients_reduced.plot(kind='bar', yerr=errors_reduced, ax=ax)\n",
        "    ax.set_ylabel('係数値')\n",
        "    ax.set_title('回帰係数と誤差範囲')\n",
        "    st.pyplot(fig)\n",
        "\n",
        "    # 回帰分析の結果の表示\n",
        "    st.subheader(\"回帰分析の結果\")\n",
        "    st.text(regression_results_reduced)\n",
        "\n",
        "    # 会話履歴を表示\n",
        "    st.subheader(\"会話の履歴\")\n",
        "    for entry in st.session_state.conversation_history:\n",
        "        if entry[\"type\"] == \"user\":\n",
        "            st.write(f\"質問: {entry['content']}\")\n",
        "        elif entry[\"type\"] == \"response\":\n",
        "            st.write(f\"回答: {entry['content']}\")\n",
        "\n",
        "    # ユーザーからの入力を取得\n",
        "    prompt = st.text_input(\"質問を入力してください:\", key=\"input_text\")\n",
        "\n",
        "    if st.button(\"送信\"):\n",
        "        if prompt:\n",
        "            st.session_state.conversation_history.append({\"type\": \"user\", \"content\": prompt})\n",
        "            combined_text = f\"{prompt}\\n以下の情報を前提にお願いします:\\n相関行列の結果:\\n{correlation_matrix_reduced.to_string()}\\n回帰分析の結果:\\n{str(regression_results_reduced)}\"\n",
        "            response = model.generate_content(combined_text)\n",
        "            st.session_state.conversation_history.append({\"type\": \"response\", \"content\": response.text})\n",
        "            st.experimental_rerun()  # 送信後にページをリロードして入力欄をクリア\n",
        "\n",
        "else:\n",
        "    st.info(\"CSVファイルをアップロードしてください。\")"
      ]
    },
    {
      "cell_type": "markdown",
      "metadata": {
        "id": "W4iAda4i1rxH"
      },
      "source": [
        "##アプリの起動"
      ]
    },
    {
      "cell_type": "code",
      "execution_count": null,
      "metadata": {
        "id": "17c_nK0C1rxH",
        "colab": {
          "base_uri": "https://localhost:8080/"
        },
        "outputId": "4c528600-5b69-4ef3-a4ae-ef6e2fbcebe6"
      },
      "outputs": [
        {
          "output_type": "stream",
          "name": "stdout",
          "text": [
            "Public URL: NgrokTunnel: \"https://d143-34-48-58-15.ngrok-free.app\" -> \"http://localhost:8501\"\n"
          ]
        }
      ],
      "source": [
        "# ngrokを介してStreamlitを公開\n",
        "public_url = ngrok.connect(addr='8501')\n",
        "print('Public URL:', public_url)"
      ]
    },
    {
      "cell_type": "code",
      "execution_count": 11,
      "metadata": {
        "id": "RL66sp521rxI",
        "colab": {
          "base_uri": "https://localhost:8080/"
        },
        "outputId": "076197b7-dd24-43c9-f1e2-1d7d73d2f44c"
      },
      "outputs": [
        {
          "output_type": "stream",
          "name": "stdout",
          "text": [
            "/content/streamlit_app.py:33: UserWarning: Could not infer format, so each element will be parsed individually, falling back to `dateutil`. To ensure parsing is consistent and as-expected, please specify a format.\n",
            "  data['訓練開始時間'] = pd.to_datetime(data['訓練開始時間']).dt.hour + pd.to_datetime(data['訓練開始時間']).dt.minute / 60\n",
            "/content/streamlit_app.py:33: UserWarning: Could not infer format, so each element will be parsed individually, falling back to `dateutil`. To ensure parsing is consistent and as-expected, please specify a format.\n",
            "  data['訓練開始時間'] = pd.to_datetime(data['訓練開始時間']).dt.hour + pd.to_datetime(data['訓練開始時間']).dt.minute / 60\n",
            "/content/streamlit_app.py:34: UserWarning: Could not infer format, so each element will be parsed individually, falling back to `dateutil`. To ensure parsing is consistent and as-expected, please specify a format.\n",
            "  data['訓練終了時間'] = pd.to_datetime(data['訓練終了時間']).dt.hour + pd.to_datetime(data['訓練終了時間']).dt.minute / 60\n",
            "/content/streamlit_app.py:34: UserWarning: Could not infer format, so each element will be parsed individually, falling back to `dateutil`. To ensure parsing is consistent and as-expected, please specify a format.\n",
            "  data['訓練終了時間'] = pd.to_datetime(data['訓練終了時間']).dt.hour + pd.to_datetime(data['訓練終了時間']).dt.minute / 60\n",
            "/content/streamlit_app.py:35: UserWarning: Could not infer format, so each element will be parsed individually, falling back to `dateutil`. To ensure parsing is consistent and as-expected, please specify a format.\n",
            "  data['起床時間'] = pd.to_datetime(data['起床時間']).dt.hour + pd.to_datetime(data['起床時間']).dt.minute / 60\n",
            "/content/streamlit_app.py:35: UserWarning: Could not infer format, so each element will be parsed individually, falling back to `dateutil`. To ensure parsing is consistent and as-expected, please specify a format.\n",
            "  data['起床時間'] = pd.to_datetime(data['起床時間']).dt.hour + pd.to_datetime(data['起床時間']).dt.minute / 60\n",
            "/content/streamlit_app.py:33: UserWarning: Could not infer format, so each element will be parsed individually, falling back to `dateutil`. To ensure parsing is consistent and as-expected, please specify a format.\n",
            "  data['訓練開始時間'] = pd.to_datetime(data['訓練開始時間']).dt.hour + pd.to_datetime(data['訓練開始時間']).dt.minute / 60\n",
            "/content/streamlit_app.py:33: UserWarning: Could not infer format, so each element will be parsed individually, falling back to `dateutil`. To ensure parsing is consistent and as-expected, please specify a format.\n",
            "  data['訓練開始時間'] = pd.to_datetime(data['訓練開始時間']).dt.hour + pd.to_datetime(data['訓練開始時間']).dt.minute / 60\n",
            "/content/streamlit_app.py:34: UserWarning: Could not infer format, so each element will be parsed individually, falling back to `dateutil`. To ensure parsing is consistent and as-expected, please specify a format.\n",
            "  data['訓練終了時間'] = pd.to_datetime(data['訓練終了時間']).dt.hour + pd.to_datetime(data['訓練終了時間']).dt.minute / 60\n",
            "/content/streamlit_app.py:34: UserWarning: Could not infer format, so each element will be parsed individually, falling back to `dateutil`. To ensure parsing is consistent and as-expected, please specify a format.\n",
            "  data['訓練終了時間'] = pd.to_datetime(data['訓練終了時間']).dt.hour + pd.to_datetime(data['訓練終了時間']).dt.minute / 60\n",
            "/content/streamlit_app.py:35: UserWarning: Could not infer format, so each element will be parsed individually, falling back to `dateutil`. To ensure parsing is consistent and as-expected, please specify a format.\n",
            "  data['起床時間'] = pd.to_datetime(data['起床時間']).dt.hour + pd.to_datetime(data['起床時間']).dt.minute / 60\n",
            "/content/streamlit_app.py:35: UserWarning: Could not infer format, so each element will be parsed individually, falling back to `dateutil`. To ensure parsing is consistent and as-expected, please specify a format.\n",
            "  data['起床時間'] = pd.to_datetime(data['起床時間']).dt.hour + pd.to_datetime(data['起床時間']).dt.minute / 60\n",
            "/content/streamlit_app.py:33: UserWarning: Could not infer format, so each element will be parsed individually, falling back to `dateutil`. To ensure parsing is consistent and as-expected, please specify a format.\n",
            "  data['訓練開始時間'] = pd.to_datetime(data['訓練開始時間']).dt.hour + pd.to_datetime(data['訓練開始時間']).dt.minute / 60\n",
            "/content/streamlit_app.py:33: UserWarning: Could not infer format, so each element will be parsed individually, falling back to `dateutil`. To ensure parsing is consistent and as-expected, please specify a format.\n",
            "  data['訓練開始時間'] = pd.to_datetime(data['訓練開始時間']).dt.hour + pd.to_datetime(data['訓練開始時間']).dt.minute / 60\n",
            "/content/streamlit_app.py:34: UserWarning: Could not infer format, so each element will be parsed individually, falling back to `dateutil`. To ensure parsing is consistent and as-expected, please specify a format.\n",
            "  data['訓練終了時間'] = pd.to_datetime(data['訓練終了時間']).dt.hour + pd.to_datetime(data['訓練終了時間']).dt.minute / 60\n",
            "/content/streamlit_app.py:34: UserWarning: Could not infer format, so each element will be parsed individually, falling back to `dateutil`. To ensure parsing is consistent and as-expected, please specify a format.\n",
            "  data['訓練終了時間'] = pd.to_datetime(data['訓練終了時間']).dt.hour + pd.to_datetime(data['訓練終了時間']).dt.minute / 60\n",
            "/content/streamlit_app.py:35: UserWarning: Could not infer format, so each element will be parsed individually, falling back to `dateutil`. To ensure parsing is consistent and as-expected, please specify a format.\n",
            "  data['起床時間'] = pd.to_datetime(data['起床時間']).dt.hour + pd.to_datetime(data['起床時間']).dt.minute / 60\n",
            "/content/streamlit_app.py:35: UserWarning: Could not infer format, so each element will be parsed individually, falling back to `dateutil`. To ensure parsing is consistent and as-expected, please specify a format.\n",
            "  data['起床時間'] = pd.to_datetime(data['起床時間']).dt.hour + pd.to_datetime(data['起床時間']).dt.minute / 60\n",
            "2024-06-17 23:55:55.320 Please replace `st.experimental_rerun` with `st.rerun`.\n",
            "\n",
            "`st.experimental_rerun` will be removed after 2024-04-01.\n",
            "/content/streamlit_app.py:33: UserWarning: Could not infer format, so each element will be parsed individually, falling back to `dateutil`. To ensure parsing is consistent and as-expected, please specify a format.\n",
            "  data['訓練開始時間'] = pd.to_datetime(data['訓練開始時間']).dt.hour + pd.to_datetime(data['訓練開始時間']).dt.minute / 60\n",
            "/content/streamlit_app.py:33: UserWarning: Could not infer format, so each element will be parsed individually, falling back to `dateutil`. To ensure parsing is consistent and as-expected, please specify a format.\n",
            "  data['訓練開始時間'] = pd.to_datetime(data['訓練開始時間']).dt.hour + pd.to_datetime(data['訓練開始時間']).dt.minute / 60\n",
            "/content/streamlit_app.py:34: UserWarning: Could not infer format, so each element will be parsed individually, falling back to `dateutil`. To ensure parsing is consistent and as-expected, please specify a format.\n",
            "  data['訓練終了時間'] = pd.to_datetime(data['訓練終了時間']).dt.hour + pd.to_datetime(data['訓練終了時間']).dt.minute / 60\n",
            "/content/streamlit_app.py:34: UserWarning: Could not infer format, so each element will be parsed individually, falling back to `dateutil`. To ensure parsing is consistent and as-expected, please specify a format.\n",
            "  data['訓練終了時間'] = pd.to_datetime(data['訓練終了時間']).dt.hour + pd.to_datetime(data['訓練終了時間']).dt.minute / 60\n",
            "/content/streamlit_app.py:35: UserWarning: Could not infer format, so each element will be parsed individually, falling back to `dateutil`. To ensure parsing is consistent and as-expected, please specify a format.\n",
            "  data['起床時間'] = pd.to_datetime(data['起床時間']).dt.hour + pd.to_datetime(data['起床時間']).dt.minute / 60\n",
            "/content/streamlit_app.py:35: UserWarning: Could not infer format, so each element will be parsed individually, falling back to `dateutil`. To ensure parsing is consistent and as-expected, please specify a format.\n",
            "  data['起床時間'] = pd.to_datetime(data['起床時間']).dt.hour + pd.to_datetime(data['起床時間']).dt.minute / 60\n",
            "/content/streamlit_app.py:33: UserWarning: Could not infer format, so each element will be parsed individually, falling back to `dateutil`. To ensure parsing is consistent and as-expected, please specify a format.\n",
            "  data['訓練開始時間'] = pd.to_datetime(data['訓練開始時間']).dt.hour + pd.to_datetime(data['訓練開始時間']).dt.minute / 60\n",
            "/content/streamlit_app.py:33: UserWarning: Could not infer format, so each element will be parsed individually, falling back to `dateutil`. To ensure parsing is consistent and as-expected, please specify a format.\n",
            "  data['訓練開始時間'] = pd.to_datetime(data['訓練開始時間']).dt.hour + pd.to_datetime(data['訓練開始時間']).dt.minute / 60\n",
            "/content/streamlit_app.py:34: UserWarning: Could not infer format, so each element will be parsed individually, falling back to `dateutil`. To ensure parsing is consistent and as-expected, please specify a format.\n",
            "  data['訓練終了時間'] = pd.to_datetime(data['訓練終了時間']).dt.hour + pd.to_datetime(data['訓練終了時間']).dt.minute / 60\n",
            "/content/streamlit_app.py:34: UserWarning: Could not infer format, so each element will be parsed individually, falling back to `dateutil`. To ensure parsing is consistent and as-expected, please specify a format.\n",
            "  data['訓練終了時間'] = pd.to_datetime(data['訓練終了時間']).dt.hour + pd.to_datetime(data['訓練終了時間']).dt.minute / 60\n",
            "/content/streamlit_app.py:35: UserWarning: Could not infer format, so each element will be parsed individually, falling back to `dateutil`. To ensure parsing is consistent and as-expected, please specify a format.\n",
            "  data['起床時間'] = pd.to_datetime(data['起床時間']).dt.hour + pd.to_datetime(data['起床時間']).dt.minute / 60\n",
            "/content/streamlit_app.py:35: UserWarning: Could not infer format, so each element will be parsed individually, falling back to `dateutil`. To ensure parsing is consistent and as-expected, please specify a format.\n",
            "  data['起床時間'] = pd.to_datetime(data['起床時間']).dt.hour + pd.to_datetime(data['起床時間']).dt.minute / 60\n",
            "/content/streamlit_app.py:33: UserWarning: Could not infer format, so each element will be parsed individually, falling back to `dateutil`. To ensure parsing is consistent and as-expected, please specify a format.\n",
            "  data['訓練開始時間'] = pd.to_datetime(data['訓練開始時間']).dt.hour + pd.to_datetime(data['訓練開始時間']).dt.minute / 60\n",
            "/content/streamlit_app.py:33: UserWarning: Could not infer format, so each element will be parsed individually, falling back to `dateutil`. To ensure parsing is consistent and as-expected, please specify a format.\n",
            "  data['訓練開始時間'] = pd.to_datetime(data['訓練開始時間']).dt.hour + pd.to_datetime(data['訓練開始時間']).dt.minute / 60\n",
            "/content/streamlit_app.py:34: UserWarning: Could not infer format, so each element will be parsed individually, falling back to `dateutil`. To ensure parsing is consistent and as-expected, please specify a format.\n",
            "  data['訓練終了時間'] = pd.to_datetime(data['訓練終了時間']).dt.hour + pd.to_datetime(data['訓練終了時間']).dt.minute / 60\n",
            "/content/streamlit_app.py:34: UserWarning: Could not infer format, so each element will be parsed individually, falling back to `dateutil`. To ensure parsing is consistent and as-expected, please specify a format.\n",
            "  data['訓練終了時間'] = pd.to_datetime(data['訓練終了時間']).dt.hour + pd.to_datetime(data['訓練終了時間']).dt.minute / 60\n",
            "/content/streamlit_app.py:35: UserWarning: Could not infer format, so each element will be parsed individually, falling back to `dateutil`. To ensure parsing is consistent and as-expected, please specify a format.\n",
            "  data['起床時間'] = pd.to_datetime(data['起床時間']).dt.hour + pd.to_datetime(data['起床時間']).dt.minute / 60\n",
            "/content/streamlit_app.py:35: UserWarning: Could not infer format, so each element will be parsed individually, falling back to `dateutil`. To ensure parsing is consistent and as-expected, please specify a format.\n",
            "  data['起床時間'] = pd.to_datetime(data['起床時間']).dt.hour + pd.to_datetime(data['起床時間']).dt.minute / 60\n",
            "2024-06-17 23:57:03.084 Please replace `st.experimental_rerun` with `st.rerun`.\n",
            "\n",
            "`st.experimental_rerun` will be removed after 2024-04-01.\n",
            "/content/streamlit_app.py:33: UserWarning: Could not infer format, so each element will be parsed individually, falling back to `dateutil`. To ensure parsing is consistent and as-expected, please specify a format.\n",
            "  data['訓練開始時間'] = pd.to_datetime(data['訓練開始時間']).dt.hour + pd.to_datetime(data['訓練開始時間']).dt.minute / 60\n",
            "/content/streamlit_app.py:33: UserWarning: Could not infer format, so each element will be parsed individually, falling back to `dateutil`. To ensure parsing is consistent and as-expected, please specify a format.\n",
            "  data['訓練開始時間'] = pd.to_datetime(data['訓練開始時間']).dt.hour + pd.to_datetime(data['訓練開始時間']).dt.minute / 60\n",
            "/content/streamlit_app.py:34: UserWarning: Could not infer format, so each element will be parsed individually, falling back to `dateutil`. To ensure parsing is consistent and as-expected, please specify a format.\n",
            "  data['訓練終了時間'] = pd.to_datetime(data['訓練終了時間']).dt.hour + pd.to_datetime(data['訓練終了時間']).dt.minute / 60\n",
            "/content/streamlit_app.py:34: UserWarning: Could not infer format, so each element will be parsed individually, falling back to `dateutil`. To ensure parsing is consistent and as-expected, please specify a format.\n",
            "  data['訓練終了時間'] = pd.to_datetime(data['訓練終了時間']).dt.hour + pd.to_datetime(data['訓練終了時間']).dt.minute / 60\n",
            "/content/streamlit_app.py:35: UserWarning: Could not infer format, so each element will be parsed individually, falling back to `dateutil`. To ensure parsing is consistent and as-expected, please specify a format.\n",
            "  data['起床時間'] = pd.to_datetime(data['起床時間']).dt.hour + pd.to_datetime(data['起床時間']).dt.minute / 60\n",
            "/content/streamlit_app.py:35: UserWarning: Could not infer format, so each element will be parsed individually, falling back to `dateutil`. To ensure parsing is consistent and as-expected, please specify a format.\n",
            "  data['起床時間'] = pd.to_datetime(data['起床時間']).dt.hour + pd.to_datetime(data['起床時間']).dt.minute / 60\n",
            "/content/streamlit_app.py:33: UserWarning: Could not infer format, so each element will be parsed individually, falling back to `dateutil`. To ensure parsing is consistent and as-expected, please specify a format.\n",
            "  data['訓練開始時間'] = pd.to_datetime(data['訓練開始時間']).dt.hour + pd.to_datetime(data['訓練開始時間']).dt.minute / 60\n",
            "/content/streamlit_app.py:33: UserWarning: Could not infer format, so each element will be parsed individually, falling back to `dateutil`. To ensure parsing is consistent and as-expected, please specify a format.\n",
            "  data['訓練開始時間'] = pd.to_datetime(data['訓練開始時間']).dt.hour + pd.to_datetime(data['訓練開始時間']).dt.minute / 60\n",
            "/content/streamlit_app.py:34: UserWarning: Could not infer format, so each element will be parsed individually, falling back to `dateutil`. To ensure parsing is consistent and as-expected, please specify a format.\n",
            "  data['訓練終了時間'] = pd.to_datetime(data['訓練終了時間']).dt.hour + pd.to_datetime(data['訓練終了時間']).dt.minute / 60\n",
            "/content/streamlit_app.py:34: UserWarning: Could not infer format, so each element will be parsed individually, falling back to `dateutil`. To ensure parsing is consistent and as-expected, please specify a format.\n",
            "  data['訓練終了時間'] = pd.to_datetime(data['訓練終了時間']).dt.hour + pd.to_datetime(data['訓練終了時間']).dt.minute / 60\n",
            "/content/streamlit_app.py:35: UserWarning: Could not infer format, so each element will be parsed individually, falling back to `dateutil`. To ensure parsing is consistent and as-expected, please specify a format.\n",
            "  data['起床時間'] = pd.to_datetime(data['起床時間']).dt.hour + pd.to_datetime(data['起床時間']).dt.minute / 60\n",
            "/content/streamlit_app.py:35: UserWarning: Could not infer format, so each element will be parsed individually, falling back to `dateutil`. To ensure parsing is consistent and as-expected, please specify a format.\n",
            "  data['起床時間'] = pd.to_datetime(data['起床時間']).dt.hour + pd.to_datetime(data['起床時間']).dt.minute / 60\n",
            "2024-06-17 23:58:01.598 Please replace `st.experimental_rerun` with `st.rerun`.\n",
            "\n",
            "`st.experimental_rerun` will be removed after 2024-04-01.\n",
            "/content/streamlit_app.py:33: UserWarning: Could not infer format, so each element will be parsed individually, falling back to `dateutil`. To ensure parsing is consistent and as-expected, please specify a format.\n",
            "  data['訓練開始時間'] = pd.to_datetime(data['訓練開始時間']).dt.hour + pd.to_datetime(data['訓練開始時間']).dt.minute / 60\n",
            "/content/streamlit_app.py:33: UserWarning: Could not infer format, so each element will be parsed individually, falling back to `dateutil`. To ensure parsing is consistent and as-expected, please specify a format.\n",
            "  data['訓練開始時間'] = pd.to_datetime(data['訓練開始時間']).dt.hour + pd.to_datetime(data['訓練開始時間']).dt.minute / 60\n",
            "/content/streamlit_app.py:34: UserWarning: Could not infer format, so each element will be parsed individually, falling back to `dateutil`. To ensure parsing is consistent and as-expected, please specify a format.\n",
            "  data['訓練終了時間'] = pd.to_datetime(data['訓練終了時間']).dt.hour + pd.to_datetime(data['訓練終了時間']).dt.minute / 60\n",
            "/content/streamlit_app.py:34: UserWarning: Could not infer format, so each element will be parsed individually, falling back to `dateutil`. To ensure parsing is consistent and as-expected, please specify a format.\n",
            "  data['訓練終了時間'] = pd.to_datetime(data['訓練終了時間']).dt.hour + pd.to_datetime(data['訓練終了時間']).dt.minute / 60\n",
            "/content/streamlit_app.py:35: UserWarning: Could not infer format, so each element will be parsed individually, falling back to `dateutil`. To ensure parsing is consistent and as-expected, please specify a format.\n",
            "  data['起床時間'] = pd.to_datetime(data['起床時間']).dt.hour + pd.to_datetime(data['起床時間']).dt.minute / 60\n",
            "/content/streamlit_app.py:35: UserWarning: Could not infer format, so each element will be parsed individually, falling back to `dateutil`. To ensure parsing is consistent and as-expected, please specify a format.\n",
            "  data['起床時間'] = pd.to_datetime(data['起床時間']).dt.hour + pd.to_datetime(data['起床時間']).dt.minute / 60\n",
            "/content/streamlit_app.py:33: UserWarning: Could not infer format, so each element will be parsed individually, falling back to `dateutil`. To ensure parsing is consistent and as-expected, please specify a format.\n",
            "  data['訓練開始時間'] = pd.to_datetime(data['訓練開始時間']).dt.hour + pd.to_datetime(data['訓練開始時間']).dt.minute / 60\n",
            "/content/streamlit_app.py:33: UserWarning: Could not infer format, so each element will be parsed individually, falling back to `dateutil`. To ensure parsing is consistent and as-expected, please specify a format.\n",
            "  data['訓練開始時間'] = pd.to_datetime(data['訓練開始時間']).dt.hour + pd.to_datetime(data['訓練開始時間']).dt.minute / 60\n",
            "/content/streamlit_app.py:34: UserWarning: Could not infer format, so each element will be parsed individually, falling back to `dateutil`. To ensure parsing is consistent and as-expected, please specify a format.\n",
            "  data['訓練終了時間'] = pd.to_datetime(data['訓練終了時間']).dt.hour + pd.to_datetime(data['訓練終了時間']).dt.minute / 60\n",
            "/content/streamlit_app.py:33: UserWarning: Could not infer format, so each element will be parsed individually, falling back to `dateutil`. To ensure parsing is consistent and as-expected, please specify a format.\n",
            "  data['訓練開始時間'] = pd.to_datetime(data['訓練開始時間']).dt.hour + pd.to_datetime(data['訓練開始時間']).dt.minute / 60\n",
            "/content/streamlit_app.py:34: UserWarning: Could not infer format, so each element will be parsed individually, falling back to `dateutil`. To ensure parsing is consistent and as-expected, please specify a format.\n",
            "  data['訓練終了時間'] = pd.to_datetime(data['訓練終了時間']).dt.hour + pd.to_datetime(data['訓練終了時間']).dt.minute / 60\n",
            "/content/streamlit_app.py:33: UserWarning: Could not infer format, so each element will be parsed individually, falling back to `dateutil`. To ensure parsing is consistent and as-expected, please specify a format.\n",
            "  data['訓練開始時間'] = pd.to_datetime(data['訓練開始時間']).dt.hour + pd.to_datetime(data['訓練開始時間']).dt.minute / 60\n",
            "/content/streamlit_app.py:35: UserWarning: Could not infer format, so each element will be parsed individually, falling back to `dateutil`. To ensure parsing is consistent and as-expected, please specify a format.\n",
            "  data['起床時間'] = pd.to_datetime(data['起床時間']).dt.hour + pd.to_datetime(data['起床時間']).dt.minute / 60\n",
            "/content/streamlit_app.py:34: UserWarning: Could not infer format, so each element will be parsed individually, falling back to `dateutil`. To ensure parsing is consistent and as-expected, please specify a format.\n",
            "  data['訓練終了時間'] = pd.to_datetime(data['訓練終了時間']).dt.hour + pd.to_datetime(data['訓練終了時間']).dt.minute / 60\n",
            "/content/streamlit_app.py:35: UserWarning: Could not infer format, so each element will be parsed individually, falling back to `dateutil`. To ensure parsing is consistent and as-expected, please specify a format.\n",
            "  data['起床時間'] = pd.to_datetime(data['起床時間']).dt.hour + pd.to_datetime(data['起床時間']).dt.minute / 60\n",
            "/content/streamlit_app.py:34: UserWarning: Could not infer format, so each element will be parsed individually, falling back to `dateutil`. To ensure parsing is consistent and as-expected, please specify a format.\n",
            "  data['訓練終了時間'] = pd.to_datetime(data['訓練終了時間']).dt.hour + pd.to_datetime(data['訓練終了時間']).dt.minute / 60\n",
            "/content/streamlit_app.py:35: UserWarning: Could not infer format, so each element will be parsed individually, falling back to `dateutil`. To ensure parsing is consistent and as-expected, please specify a format.\n",
            "  data['起床時間'] = pd.to_datetime(data['起床時間']).dt.hour + pd.to_datetime(data['起床時間']).dt.minute / 60\n",
            "/content/streamlit_app.py:35: UserWarning: Could not infer format, so each element will be parsed individually, falling back to `dateutil`. To ensure parsing is consistent and as-expected, please specify a format.\n",
            "  data['起床時間'] = pd.to_datetime(data['起床時間']).dt.hour + pd.to_datetime(data['起床時間']).dt.minute / 60\n",
            "2024-06-17 23:59:28.024 Please replace `st.experimental_rerun` with `st.rerun`.\n",
            "\n",
            "`st.experimental_rerun` will be removed after 2024-04-01.\n",
            "/content/streamlit_app.py:33: UserWarning: Could not infer format, so each element will be parsed individually, falling back to `dateutil`. To ensure parsing is consistent and as-expected, please specify a format.\n",
            "  data['訓練開始時間'] = pd.to_datetime(data['訓練開始時間']).dt.hour + pd.to_datetime(data['訓練開始時間']).dt.minute / 60\n",
            "/content/streamlit_app.py:33: UserWarning: Could not infer format, so each element will be parsed individually, falling back to `dateutil`. To ensure parsing is consistent and as-expected, please specify a format.\n",
            "  data['訓練開始時間'] = pd.to_datetime(data['訓練開始時間']).dt.hour + pd.to_datetime(data['訓練開始時間']).dt.minute / 60\n",
            "/content/streamlit_app.py:34: UserWarning: Could not infer format, so each element will be parsed individually, falling back to `dateutil`. To ensure parsing is consistent and as-expected, please specify a format.\n",
            "  data['訓練終了時間'] = pd.to_datetime(data['訓練終了時間']).dt.hour + pd.to_datetime(data['訓練終了時間']).dt.minute / 60\n",
            "/content/streamlit_app.py:34: UserWarning: Could not infer format, so each element will be parsed individually, falling back to `dateutil`. To ensure parsing is consistent and as-expected, please specify a format.\n",
            "  data['訓練終了時間'] = pd.to_datetime(data['訓練終了時間']).dt.hour + pd.to_datetime(data['訓練終了時間']).dt.minute / 60\n",
            "/content/streamlit_app.py:35: UserWarning: Could not infer format, so each element will be parsed individually, falling back to `dateutil`. To ensure parsing is consistent and as-expected, please specify a format.\n",
            "  data['起床時間'] = pd.to_datetime(data['起床時間']).dt.hour + pd.to_datetime(data['起床時間']).dt.minute / 60\n",
            "/content/streamlit_app.py:35: UserWarning: Could not infer format, so each element will be parsed individually, falling back to `dateutil`. To ensure parsing is consistent and as-expected, please specify a format.\n",
            "  data['起床時間'] = pd.to_datetime(data['起床時間']).dt.hour + pd.to_datetime(data['起床時間']).dt.minute / 60\n",
            "/content/streamlit_app.py:33: UserWarning: Could not infer format, so each element will be parsed individually, falling back to `dateutil`. To ensure parsing is consistent and as-expected, please specify a format.\n",
            "  data['訓練開始時間'] = pd.to_datetime(data['訓練開始時間']).dt.hour + pd.to_datetime(data['訓練開始時間']).dt.minute / 60\n",
            "/content/streamlit_app.py:33: UserWarning: Could not infer format, so each element will be parsed individually, falling back to `dateutil`. To ensure parsing is consistent and as-expected, please specify a format.\n",
            "  data['訓練開始時間'] = pd.to_datetime(data['訓練開始時間']).dt.hour + pd.to_datetime(data['訓練開始時間']).dt.minute / 60\n",
            "/content/streamlit_app.py:34: UserWarning: Could not infer format, so each element will be parsed individually, falling back to `dateutil`. To ensure parsing is consistent and as-expected, please specify a format.\n",
            "  data['訓練終了時間'] = pd.to_datetime(data['訓練終了時間']).dt.hour + pd.to_datetime(data['訓練終了時間']).dt.minute / 60\n",
            "/content/streamlit_app.py:34: UserWarning: Could not infer format, so each element will be parsed individually, falling back to `dateutil`. To ensure parsing is consistent and as-expected, please specify a format.\n",
            "  data['訓練終了時間'] = pd.to_datetime(data['訓練終了時間']).dt.hour + pd.to_datetime(data['訓練終了時間']).dt.minute / 60\n",
            "/content/streamlit_app.py:35: UserWarning: Could not infer format, so each element will be parsed individually, falling back to `dateutil`. To ensure parsing is consistent and as-expected, please specify a format.\n",
            "  data['起床時間'] = pd.to_datetime(data['起床時間']).dt.hour + pd.to_datetime(data['起床時間']).dt.minute / 60\n",
            "/content/streamlit_app.py:35: UserWarning: Could not infer format, so each element will be parsed individually, falling back to `dateutil`. To ensure parsing is consistent and as-expected, please specify a format.\n",
            "  data['起床時間'] = pd.to_datetime(data['起床時間']).dt.hour + pd.to_datetime(data['起床時間']).dt.minute / 60\n",
            "/content/streamlit_app.py:33: UserWarning: Could not infer format, so each element will be parsed individually, falling back to `dateutil`. To ensure parsing is consistent and as-expected, please specify a format.\n",
            "  data['訓練開始時間'] = pd.to_datetime(data['訓練開始時間']).dt.hour + pd.to_datetime(data['訓練開始時間']).dt.minute / 60\n",
            "/content/streamlit_app.py:33: UserWarning: Could not infer format, so each element will be parsed individually, falling back to `dateutil`. To ensure parsing is consistent and as-expected, please specify a format.\n",
            "  data['訓練開始時間'] = pd.to_datetime(data['訓練開始時間']).dt.hour + pd.to_datetime(data['訓練開始時間']).dt.minute / 60\n",
            "/content/streamlit_app.py:34: UserWarning: Could not infer format, so each element will be parsed individually, falling back to `dateutil`. To ensure parsing is consistent and as-expected, please specify a format.\n",
            "  data['訓練終了時間'] = pd.to_datetime(data['訓練終了時間']).dt.hour + pd.to_datetime(data['訓練終了時間']).dt.minute / 60\n",
            "/content/streamlit_app.py:34: UserWarning: Could not infer format, so each element will be parsed individually, falling back to `dateutil`. To ensure parsing is consistent and as-expected, please specify a format.\n",
            "  data['訓練終了時間'] = pd.to_datetime(data['訓練終了時間']).dt.hour + pd.to_datetime(data['訓練終了時間']).dt.minute / 60\n",
            "/content/streamlit_app.py:35: UserWarning: Could not infer format, so each element will be parsed individually, falling back to `dateutil`. To ensure parsing is consistent and as-expected, please specify a format.\n",
            "  data['起床時間'] = pd.to_datetime(data['起床時間']).dt.hour + pd.to_datetime(data['起床時間']).dt.minute / 60\n",
            "/content/streamlit_app.py:35: UserWarning: Could not infer format, so each element will be parsed individually, falling back to `dateutil`. To ensure parsing is consistent and as-expected, please specify a format.\n",
            "  data['起床時間'] = pd.to_datetime(data['起床時間']).dt.hour + pd.to_datetime(data['起床時間']).dt.minute / 60\n",
            "/content/streamlit_app.py:33: UserWarning: Could not infer format, so each element will be parsed individually, falling back to `dateutil`. To ensure parsing is consistent and as-expected, please specify a format.\n",
            "  data['訓練開始時間'] = pd.to_datetime(data['訓練開始時間']).dt.hour + pd.to_datetime(data['訓練開始時間']).dt.minute / 60\n",
            "/content/streamlit_app.py:33: UserWarning: Could not infer format, so each element will be parsed individually, falling back to `dateutil`. To ensure parsing is consistent and as-expected, please specify a format.\n",
            "  data['訓練開始時間'] = pd.to_datetime(data['訓練開始時間']).dt.hour + pd.to_datetime(data['訓練開始時間']).dt.minute / 60\n",
            "/content/streamlit_app.py:34: UserWarning: Could not infer format, so each element will be parsed individually, falling back to `dateutil`. To ensure parsing is consistent and as-expected, please specify a format.\n",
            "  data['訓練終了時間'] = pd.to_datetime(data['訓練終了時間']).dt.hour + pd.to_datetime(data['訓練終了時間']).dt.minute / 60\n",
            "/content/streamlit_app.py:34: UserWarning: Could not infer format, so each element will be parsed individually, falling back to `dateutil`. To ensure parsing is consistent and as-expected, please specify a format.\n",
            "  data['訓練終了時間'] = pd.to_datetime(data['訓練終了時間']).dt.hour + pd.to_datetime(data['訓練終了時間']).dt.minute / 60\n",
            "/content/streamlit_app.py:35: UserWarning: Could not infer format, so each element will be parsed individually, falling back to `dateutil`. To ensure parsing is consistent and as-expected, please specify a format.\n",
            "  data['起床時間'] = pd.to_datetime(data['起床時間']).dt.hour + pd.to_datetime(data['起床時間']).dt.minute / 60\n",
            "/content/streamlit_app.py:35: UserWarning: Could not infer format, so each element will be parsed individually, falling back to `dateutil`. To ensure parsing is consistent and as-expected, please specify a format.\n",
            "  data['起床時間'] = pd.to_datetime(data['起床時間']).dt.hour + pd.to_datetime(data['起床時間']).dt.minute / 60\n",
            "2024-06-18 00:04:51.689 Please replace `st.experimental_rerun` with `st.rerun`.\n",
            "\n",
            "`st.experimental_rerun` will be removed after 2024-04-01.\n",
            "/content/streamlit_app.py:33: UserWarning: Could not infer format, so each element will be parsed individually, falling back to `dateutil`. To ensure parsing is consistent and as-expected, please specify a format.\n",
            "  data['訓練開始時間'] = pd.to_datetime(data['訓練開始時間']).dt.hour + pd.to_datetime(data['訓練開始時間']).dt.minute / 60\n",
            "/content/streamlit_app.py:33: UserWarning: Could not infer format, so each element will be parsed individually, falling back to `dateutil`. To ensure parsing is consistent and as-expected, please specify a format.\n",
            "  data['訓練開始時間'] = pd.to_datetime(data['訓練開始時間']).dt.hour + pd.to_datetime(data['訓練開始時間']).dt.minute / 60\n",
            "/content/streamlit_app.py:34: UserWarning: Could not infer format, so each element will be parsed individually, falling back to `dateutil`. To ensure parsing is consistent and as-expected, please specify a format.\n",
            "  data['訓練終了時間'] = pd.to_datetime(data['訓練終了時間']).dt.hour + pd.to_datetime(data['訓練終了時間']).dt.minute / 60\n",
            "/content/streamlit_app.py:34: UserWarning: Could not infer format, so each element will be parsed individually, falling back to `dateutil`. To ensure parsing is consistent and as-expected, please specify a format.\n",
            "  data['訓練終了時間'] = pd.to_datetime(data['訓練終了時間']).dt.hour + pd.to_datetime(data['訓練終了時間']).dt.minute / 60\n",
            "/content/streamlit_app.py:35: UserWarning: Could not infer format, so each element will be parsed individually, falling back to `dateutil`. To ensure parsing is consistent and as-expected, please specify a format.\n",
            "  data['起床時間'] = pd.to_datetime(data['起床時間']).dt.hour + pd.to_datetime(data['起床時間']).dt.minute / 60\n",
            "/content/streamlit_app.py:35: UserWarning: Could not infer format, so each element will be parsed individually, falling back to `dateutil`. To ensure parsing is consistent and as-expected, please specify a format.\n",
            "  data['起床時間'] = pd.to_datetime(data['起床時間']).dt.hour + pd.to_datetime(data['起床時間']).dt.minute / 60\n"
          ]
        }
      ],
      "source": [
        "# Streamlitアプリケーションの起動\n",
        "!streamlit run streamlit_app.py >/dev/null"
      ]
    },
    {
      "cell_type": "code",
      "execution_count": null,
      "metadata": {
        "id": "tsstZNrmc2o0"
      },
      "outputs": [],
      "source": [
        "from google.colab import userdata\n",
        "api_key = userdata.get('Gemini_api')\n",
        "genai.configure(api_key=api_key)"
      ]
    },
    {
      "cell_type": "code",
      "execution_count": null,
      "metadata": {
        "id": "2eHcZzMbckf2"
      },
      "outputs": [],
      "source": []
    },
    {
      "cell_type": "code",
      "execution_count": null,
      "metadata": {
        "colab": {
          "base_uri": "https://localhost:8080/",
          "height": 36
        },
        "id": "L31FBd1nbDA5",
        "outputId": "9f418f53-9a78-4cce-d38d-e8f87e376b77"
      },
      "outputs": [
        {
          "data": {
            "application/vnd.google.colaboratory.intrinsic+json": {
              "type": "string"
            },
            "text/plain": [
              "'こんにちは！お元気ですか？'"
            ]
          },
          "execution_count": 22,
          "metadata": {},
          "output_type": "execute_result"
        }
      ],
      "source": [
        "import google.generativeai as genai\n",
        "text = \"こんにちは,beloved\"\n",
        "model = genai.GenerativeModel('gemini-pro')\n",
        "# 2つの文章の組み合わせを作成\n",
        "combined_text = f\"以下の文章の返信をしてください:\\n1. {text}\"\n",
        "\n",
        "# テキストの類似度とその根拠をリクエスト\n",
        "response = model.generate_content(combined_text)\n",
        "\n",
        "# 応答のテキスト部分を返す\n",
        "response.text"
      ]
    }
  ],
  "metadata": {
    "colab": {
      "collapsed_sections": [
        "d_4FA9X01rxG"
      ],
      "provenance": [],
      "toc_visible": true,
      "mount_file_id": "1p1RqqZGQKPoJjMrUyUJivADYb6HQYQI3",
      "authorship_tag": "ABX9TyP5e81sarCXazVpEMJE8U0q",
      "include_colab_link": true
    },
    "kernelspec": {
      "display_name": "Python 3",
      "name": "python3"
    },
    "language_info": {
      "name": "python"
    }
  },
  "nbformat": 4,
  "nbformat_minor": 0
}